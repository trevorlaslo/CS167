{
  "nbformat": 4,
  "nbformat_minor": 0,
  "metadata": {
    "colab": {
      "provenance": []
    },
    "kernelspec": {
      "name": "python3",
      "display_name": "Python 3"
    },
    "language_info": {
      "name": "python"
    }
  },
  "cells": [
    {
      "cell_type": "code",
      "source": [
        "x = 3+2\n",
        "print(x)"
      ],
      "metadata": {
        "colab": {
          "base_uri": "https://localhost:8080/"
        },
        "id": "cKJw4nWfhCcJ",
        "outputId": "4e8c0e97-4c0a-4707-9801-bcd2374095db"
      },
      "execution_count": 6,
      "outputs": [
        {
          "output_type": "stream",
          "name": "stdout",
          "text": [
            "5\n"
          ]
        }
      ]
    },
    {
      "cell_type": "markdown",
      "source": [
        "- [github repository link](https://github.com/j23-cs167/notebook-0-trevorlaslo)"
      ],
      "metadata": {
        "id": "em0h7gd_nvRd"
      }
    },
    {
      "cell_type": "markdown",
      "source": [
        "## Colab Tutorial\n",
        "Jan 3rd, 2023\n",
        "\n",
        "Markdown basics:\n",
        "- **bold text**\n",
        "- *italicized*\n",
        "- `typewriter text`\n",
        "- [something linky](www.google.com)\n",
        "  - new level of indent\n",
        "\n",
        "> | a | b | c |\n",
        "|---|---|---|\n",
        "| 1 | 2 | 3 |\n",
        "| 4 | 5 | 6 |\n",
        "\n",
        "\n",
        "\n",
        "\n",
        "\n"
      ],
      "metadata": {
        "id": "zmf2A2B3iONc"
      }
    },
    {
      "cell_type": "code",
      "source": [
        "x = 8"
      ],
      "metadata": {
        "id": "I-5artOSiVBb"
      },
      "execution_count": 4,
      "outputs": []
    },
    {
      "cell_type": "code",
      "source": [
        "x"
      ],
      "metadata": {
        "colab": {
          "base_uri": "https://localhost:8080/"
        },
        "id": "jLb_Tk_XkLVZ",
        "outputId": "b7c6b17e-4440-49f9-d399-4921468fb3f8"
      },
      "execution_count": 7,
      "outputs": [
        {
          "output_type": "execute_result",
          "data": {
            "text/plain": [
              "5"
            ]
          },
          "metadata": {},
          "execution_count": 7
        }
      ]
    },
    {
      "cell_type": "code",
      "source": [
        "# CS 167 Machine Learning\n",
        "# Day 01 Part 2 exercises\n",
        "# note that each of these segments should be run in a different cell \n",
        "# within an iPython Notebook\n",
        "\n",
        "a=10\n",
        "b=3.14\n",
        "c = \"machine learning\"\n",
        "d = 'hi'\n",
        "e = 'x'\n",
        "f = [1,2,3]\n",
        "print(a,b,c,d,e,f)"
      ],
      "metadata": {
        "colab": {
          "base_uri": "https://localhost:8080/"
        },
        "id": "WSbF4-XUmNEz",
        "outputId": "8d268329-23ca-47b1-83e2-34dc163bf8e3"
      },
      "execution_count": 11,
      "outputs": [
        {
          "output_type": "stream",
          "name": "stdout",
          "text": [
            "10 3.14 machine learning hi x [1, 2, 3]\n"
          ]
        }
      ]
    },
    {
      "cell_type": "code",
      "source": [
        "x = [1,2,3] \n",
        "y=x\n",
        "x[0] = \"abc\" \n",
        "print(y) \n",
        "#before you run, what will the value of y[0] be?"
      ],
      "metadata": {
        "colab": {
          "base_uri": "https://localhost:8080/"
        },
        "id": "QG1Mx8AkmYUu",
        "outputId": "7fa06ea5-6cf9-4675-eee6-d71df8ac72cd"
      },
      "execution_count": 12,
      "outputs": [
        {
          "output_type": "stream",
          "name": "stdout",
          "text": [
            "['abc', 2, 3]\n"
          ]
        }
      ]
    },
    {
      "cell_type": "code",
      "source": [
        "z = x[1]\n",
        "x[1] = \"what\"\n",
        "print(x)\n",
        "print(z)\n",
        "x.append(70)\n",
        "x.insert(2,90)\n",
        "print(x)\n",
        "#can you predict what will be output?"
      ],
      "metadata": {
        "colab": {
          "base_uri": "https://localhost:8080/"
        },
        "id": "1bPzgxzJn8pT",
        "outputId": "c4d3b075-7a29-4c50-d256-6708636da038"
      },
      "execution_count": 13,
      "outputs": [
        {
          "output_type": "stream",
          "name": "stdout",
          "text": [
            "['abc', 'what', 3]\n",
            "2\n",
            "['abc', 'what', 90, 3, 70]\n"
          ]
        }
      ]
    },
    {
      "cell_type": "code",
      "source": [
        "#####\n",
        "import pandas\n",
        "\n",
        "#####\n",
        "\n",
        "import pandas as pd\n",
        "# The first step is to mount your Google Drive to your Colab account. \n",
        "#You will be asked to authorize Colab to access your Google Drive. Follow the steps they lead you throuh.\n",
        "\n",
        "from google.colab import drive\n",
        "drive.mount('/content/drive')"
      ],
      "metadata": {
        "colab": {
          "base_uri": "https://localhost:8080/"
        },
        "id": "cS_Lm50Bq_2g",
        "outputId": "ea2887fa-f8f5-4cdd-aa4b-b920ad9a343a"
      },
      "execution_count": 14,
      "outputs": [
        {
          "output_type": "stream",
          "name": "stdout",
          "text": [
            "Mounted at /content/drive\n"
          ]
        }
      ]
    },
    {
      "cell_type": "code",
      "source": [
        "#####\n",
        "\n",
        "#Download the restaurant data (it's in Blackboard under 'datasets'), and put it in your Google Drive. Make a note of the path\n",
        "#I would suggest creating a datasets folder somewhere easy to get to, we'll be using this a lot.\n",
        "# your path will look like '/content/drive/MyDrive/....wherever you put the data'\n",
        "\n",
        "#change the following line so that it points to where you put restaurant.csv.\n",
        "data = pd.read_csv('/content/drive/MyDrive/Colab Notebooks/restaurant.csv')\n",
        "data.head()\n"
      ],
      "metadata": {
        "colab": {
          "base_uri": "https://localhost:8080/",
          "height": 206
        },
        "id": "-vaPBZ5trPwP",
        "outputId": "7c57a97f-7107-4121-dd01-6c045c8ed293"
      },
      "execution_count": 24,
      "outputs": [
        {
          "output_type": "execute_result",
          "data": {
            "text/plain": [
              "   alt  bar  fri  hun   pat price rain  res    type    est target\n",
              "0  Yes   No   No  Yes  Some   $$$   No  Yes  French   0-10    Yes\n",
              "1  Yes   No   No  Yes  Full     $   No   No    Thai  30-60     No\n",
              "2   No  Yes   No   No  Some     $   No   No  Burger   0-10    Yes\n",
              "3  Yes   No  Yes  Yes  Full     $   No   No    Thai  10-30    Yes\n",
              "4  Yes   No  Yes   No  Full   $$$   No  Yes  French    >60     No"
            ],
            "text/html": [
              "\n",
              "  <div id=\"df-e359e413-fb83-4a71-a90e-d50a1bcd8f0d\">\n",
              "    <div class=\"colab-df-container\">\n",
              "      <div>\n",
              "<style scoped>\n",
              "    .dataframe tbody tr th:only-of-type {\n",
              "        vertical-align: middle;\n",
              "    }\n",
              "\n",
              "    .dataframe tbody tr th {\n",
              "        vertical-align: top;\n",
              "    }\n",
              "\n",
              "    .dataframe thead th {\n",
              "        text-align: right;\n",
              "    }\n",
              "</style>\n",
              "<table border=\"1\" class=\"dataframe\">\n",
              "  <thead>\n",
              "    <tr style=\"text-align: right;\">\n",
              "      <th></th>\n",
              "      <th>alt</th>\n",
              "      <th>bar</th>\n",
              "      <th>fri</th>\n",
              "      <th>hun</th>\n",
              "      <th>pat</th>\n",
              "      <th>price</th>\n",
              "      <th>rain</th>\n",
              "      <th>res</th>\n",
              "      <th>type</th>\n",
              "      <th>est</th>\n",
              "      <th>target</th>\n",
              "    </tr>\n",
              "  </thead>\n",
              "  <tbody>\n",
              "    <tr>\n",
              "      <th>0</th>\n",
              "      <td>Yes</td>\n",
              "      <td>No</td>\n",
              "      <td>No</td>\n",
              "      <td>Yes</td>\n",
              "      <td>Some</td>\n",
              "      <td>$$$</td>\n",
              "      <td>No</td>\n",
              "      <td>Yes</td>\n",
              "      <td>French</td>\n",
              "      <td>0-10</td>\n",
              "      <td>Yes</td>\n",
              "    </tr>\n",
              "    <tr>\n",
              "      <th>1</th>\n",
              "      <td>Yes</td>\n",
              "      <td>No</td>\n",
              "      <td>No</td>\n",
              "      <td>Yes</td>\n",
              "      <td>Full</td>\n",
              "      <td>$</td>\n",
              "      <td>No</td>\n",
              "      <td>No</td>\n",
              "      <td>Thai</td>\n",
              "      <td>30-60</td>\n",
              "      <td>No</td>\n",
              "    </tr>\n",
              "    <tr>\n",
              "      <th>2</th>\n",
              "      <td>No</td>\n",
              "      <td>Yes</td>\n",
              "      <td>No</td>\n",
              "      <td>No</td>\n",
              "      <td>Some</td>\n",
              "      <td>$</td>\n",
              "      <td>No</td>\n",
              "      <td>No</td>\n",
              "      <td>Burger</td>\n",
              "      <td>0-10</td>\n",
              "      <td>Yes</td>\n",
              "    </tr>\n",
              "    <tr>\n",
              "      <th>3</th>\n",
              "      <td>Yes</td>\n",
              "      <td>No</td>\n",
              "      <td>Yes</td>\n",
              "      <td>Yes</td>\n",
              "      <td>Full</td>\n",
              "      <td>$</td>\n",
              "      <td>No</td>\n",
              "      <td>No</td>\n",
              "      <td>Thai</td>\n",
              "      <td>10-30</td>\n",
              "      <td>Yes</td>\n",
              "    </tr>\n",
              "    <tr>\n",
              "      <th>4</th>\n",
              "      <td>Yes</td>\n",
              "      <td>No</td>\n",
              "      <td>Yes</td>\n",
              "      <td>No</td>\n",
              "      <td>Full</td>\n",
              "      <td>$$$</td>\n",
              "      <td>No</td>\n",
              "      <td>Yes</td>\n",
              "      <td>French</td>\n",
              "      <td>&gt;60</td>\n",
              "      <td>No</td>\n",
              "    </tr>\n",
              "  </tbody>\n",
              "</table>\n",
              "</div>\n",
              "      <button class=\"colab-df-convert\" onclick=\"convertToInteractive('df-e359e413-fb83-4a71-a90e-d50a1bcd8f0d')\"\n",
              "              title=\"Convert this dataframe to an interactive table.\"\n",
              "              style=\"display:none;\">\n",
              "        \n",
              "  <svg xmlns=\"http://www.w3.org/2000/svg\" height=\"24px\"viewBox=\"0 0 24 24\"\n",
              "       width=\"24px\">\n",
              "    <path d=\"M0 0h24v24H0V0z\" fill=\"none\"/>\n",
              "    <path d=\"M18.56 5.44l.94 2.06.94-2.06 2.06-.94-2.06-.94-.94-2.06-.94 2.06-2.06.94zm-11 1L8.5 8.5l.94-2.06 2.06-.94-2.06-.94L8.5 2.5l-.94 2.06-2.06.94zm10 10l.94 2.06.94-2.06 2.06-.94-2.06-.94-.94-2.06-.94 2.06-2.06.94z\"/><path d=\"M17.41 7.96l-1.37-1.37c-.4-.4-.92-.59-1.43-.59-.52 0-1.04.2-1.43.59L10.3 9.45l-7.72 7.72c-.78.78-.78 2.05 0 2.83L4 21.41c.39.39.9.59 1.41.59.51 0 1.02-.2 1.41-.59l7.78-7.78 2.81-2.81c.8-.78.8-2.07 0-2.86zM5.41 20L4 18.59l7.72-7.72 1.47 1.35L5.41 20z\"/>\n",
              "  </svg>\n",
              "      </button>\n",
              "      \n",
              "  <style>\n",
              "    .colab-df-container {\n",
              "      display:flex;\n",
              "      flex-wrap:wrap;\n",
              "      gap: 12px;\n",
              "    }\n",
              "\n",
              "    .colab-df-convert {\n",
              "      background-color: #E8F0FE;\n",
              "      border: none;\n",
              "      border-radius: 50%;\n",
              "      cursor: pointer;\n",
              "      display: none;\n",
              "      fill: #1967D2;\n",
              "      height: 32px;\n",
              "      padding: 0 0 0 0;\n",
              "      width: 32px;\n",
              "    }\n",
              "\n",
              "    .colab-df-convert:hover {\n",
              "      background-color: #E2EBFA;\n",
              "      box-shadow: 0px 1px 2px rgba(60, 64, 67, 0.3), 0px 1px 3px 1px rgba(60, 64, 67, 0.15);\n",
              "      fill: #174EA6;\n",
              "    }\n",
              "\n",
              "    [theme=dark] .colab-df-convert {\n",
              "      background-color: #3B4455;\n",
              "      fill: #D2E3FC;\n",
              "    }\n",
              "\n",
              "    [theme=dark] .colab-df-convert:hover {\n",
              "      background-color: #434B5C;\n",
              "      box-shadow: 0px 1px 3px 1px rgba(0, 0, 0, 0.15);\n",
              "      filter: drop-shadow(0px 1px 2px rgba(0, 0, 0, 0.3));\n",
              "      fill: #FFFFFF;\n",
              "    }\n",
              "  </style>\n",
              "\n",
              "      <script>\n",
              "        const buttonEl =\n",
              "          document.querySelector('#df-e359e413-fb83-4a71-a90e-d50a1bcd8f0d button.colab-df-convert');\n",
              "        buttonEl.style.display =\n",
              "          google.colab.kernel.accessAllowed ? 'block' : 'none';\n",
              "\n",
              "        async function convertToInteractive(key) {\n",
              "          const element = document.querySelector('#df-e359e413-fb83-4a71-a90e-d50a1bcd8f0d');\n",
              "          const dataTable =\n",
              "            await google.colab.kernel.invokeFunction('convertToInteractive',\n",
              "                                                     [key], {});\n",
              "          if (!dataTable) return;\n",
              "\n",
              "          const docLinkHtml = 'Like what you see? Visit the ' +\n",
              "            '<a target=\"_blank\" href=https://colab.research.google.com/notebooks/data_table.ipynb>data table notebook</a>'\n",
              "            + ' to learn more about interactive tables.';\n",
              "          element.innerHTML = '';\n",
              "          dataTable['output_type'] = 'display_data';\n",
              "          await google.colab.output.renderOutput(dataTable, element);\n",
              "          const docLink = document.createElement('div');\n",
              "          docLink.innerHTML = docLinkHtml;\n",
              "          element.appendChild(docLink);\n",
              "        }\n",
              "      </script>\n",
              "    </div>\n",
              "  </div>\n",
              "  "
            ]
          },
          "metadata": {},
          "execution_count": 24
        }
      ]
    },
    {
      "cell_type": "code",
      "source": [
        "\n",
        "print(data['price'])\n"
      ],
      "metadata": {
        "id": "1aghFO-0rlGI"
      },
      "execution_count": null,
      "outputs": []
    },
    {
      "cell_type": "code",
      "source": [
        "print(data.loc[3, 'type'])"
      ],
      "metadata": {
        "colab": {
          "base_uri": "https://localhost:8080/"
        },
        "id": "-X8G3Hnrt-V2",
        "outputId": "3bf65f5c-e00b-4eab-9ed9-3cc743e7ef02"
      },
      "execution_count": 26,
      "outputs": [
        {
          "output_type": "stream",
          "name": "stdout",
          "text": [
            "Thai\n"
          ]
        }
      ]
    },
    {
      "cell_type": "code",
      "source": [
        "print(data.loc[3])"
      ],
      "metadata": {
        "id": "-SSr_DzYtFWC"
      },
      "execution_count": null,
      "outputs": []
    },
    {
      "cell_type": "code",
      "source": [
        "print(data.loc[3, 'rain'])"
      ],
      "metadata": {
        "colab": {
          "base_uri": "https://localhost:8080/"
        },
        "id": "pee-fcg3uQDL",
        "outputId": "9bc4c8e9-7044-433c-b148-fb17dcdef8e4"
      },
      "execution_count": 27,
      "outputs": [
        {
          "output_type": "stream",
          "name": "stdout",
          "text": [
            "No\n"
          ]
        }
      ]
    },
    {
      "cell_type": "code",
      "source": [
        "print(type(data))\n",
        "print(type(data['est']))\n",
        "print(type(data.loc[0]))\n",
        "print(type(data.iloc[3,8]))"
      ],
      "metadata": {
        "id": "Wfo-fglOuUCd"
      },
      "execution_count": null,
      "outputs": []
    },
    {
      "cell_type": "code",
      "source": [
        "data1 = pd.read_csv('/content/drive/MyDrive/Colab Notebooks/irisData.csv')\n",
        "data1.head()"
      ],
      "metadata": {
        "id": "DcqTJgQdugzl"
      },
      "execution_count": null,
      "outputs": []
    },
    {
      "cell_type": "code",
      "source": [
        "type(data1['sepal length'].loc[0])"
      ],
      "metadata": {
        "colab": {
          "base_uri": "https://localhost:8080/"
        },
        "id": "bAj5TZx-uyl5",
        "outputId": "71578cfa-bd45-4724-da21-a89140b1dac9"
      },
      "execution_count": 31,
      "outputs": [
        {
          "output_type": "execute_result",
          "data": {
            "text/plain": [
              "numpy.float64"
            ]
          },
          "metadata": {},
          "execution_count": 31
        }
      ]
    },
    {
      "cell_type": "code",
      "source": [
        "data.iloc[3:6, 4:8]"
      ],
      "metadata": {
        "colab": {
          "base_uri": "https://localhost:8080/",
          "height": 143
        },
        "id": "djhAeR2Ru3jq",
        "outputId": "35840397-5b11-4624-cabe-7c73b37ab24c"
      },
      "execution_count": 33,
      "outputs": [
        {
          "output_type": "execute_result",
          "data": {
            "text/plain": [
              "    pat price rain  res\n",
              "3  Full     $   No   No\n",
              "4  Full   $$$   No  Yes\n",
              "5  Some    $$  Yes  Yes"
            ],
            "text/html": [
              "\n",
              "  <div id=\"df-1c6bcd82-40f9-4e56-b14f-6557f24f9122\">\n",
              "    <div class=\"colab-df-container\">\n",
              "      <div>\n",
              "<style scoped>\n",
              "    .dataframe tbody tr th:only-of-type {\n",
              "        vertical-align: middle;\n",
              "    }\n",
              "\n",
              "    .dataframe tbody tr th {\n",
              "        vertical-align: top;\n",
              "    }\n",
              "\n",
              "    .dataframe thead th {\n",
              "        text-align: right;\n",
              "    }\n",
              "</style>\n",
              "<table border=\"1\" class=\"dataframe\">\n",
              "  <thead>\n",
              "    <tr style=\"text-align: right;\">\n",
              "      <th></th>\n",
              "      <th>pat</th>\n",
              "      <th>price</th>\n",
              "      <th>rain</th>\n",
              "      <th>res</th>\n",
              "    </tr>\n",
              "  </thead>\n",
              "  <tbody>\n",
              "    <tr>\n",
              "      <th>3</th>\n",
              "      <td>Full</td>\n",
              "      <td>$</td>\n",
              "      <td>No</td>\n",
              "      <td>No</td>\n",
              "    </tr>\n",
              "    <tr>\n",
              "      <th>4</th>\n",
              "      <td>Full</td>\n",
              "      <td>$$$</td>\n",
              "      <td>No</td>\n",
              "      <td>Yes</td>\n",
              "    </tr>\n",
              "    <tr>\n",
              "      <th>5</th>\n",
              "      <td>Some</td>\n",
              "      <td>$$</td>\n",
              "      <td>Yes</td>\n",
              "      <td>Yes</td>\n",
              "    </tr>\n",
              "  </tbody>\n",
              "</table>\n",
              "</div>\n",
              "      <button class=\"colab-df-convert\" onclick=\"convertToInteractive('df-1c6bcd82-40f9-4e56-b14f-6557f24f9122')\"\n",
              "              title=\"Convert this dataframe to an interactive table.\"\n",
              "              style=\"display:none;\">\n",
              "        \n",
              "  <svg xmlns=\"http://www.w3.org/2000/svg\" height=\"24px\"viewBox=\"0 0 24 24\"\n",
              "       width=\"24px\">\n",
              "    <path d=\"M0 0h24v24H0V0z\" fill=\"none\"/>\n",
              "    <path d=\"M18.56 5.44l.94 2.06.94-2.06 2.06-.94-2.06-.94-.94-2.06-.94 2.06-2.06.94zm-11 1L8.5 8.5l.94-2.06 2.06-.94-2.06-.94L8.5 2.5l-.94 2.06-2.06.94zm10 10l.94 2.06.94-2.06 2.06-.94-2.06-.94-.94-2.06-.94 2.06-2.06.94z\"/><path d=\"M17.41 7.96l-1.37-1.37c-.4-.4-.92-.59-1.43-.59-.52 0-1.04.2-1.43.59L10.3 9.45l-7.72 7.72c-.78.78-.78 2.05 0 2.83L4 21.41c.39.39.9.59 1.41.59.51 0 1.02-.2 1.41-.59l7.78-7.78 2.81-2.81c.8-.78.8-2.07 0-2.86zM5.41 20L4 18.59l7.72-7.72 1.47 1.35L5.41 20z\"/>\n",
              "  </svg>\n",
              "      </button>\n",
              "      \n",
              "  <style>\n",
              "    .colab-df-container {\n",
              "      display:flex;\n",
              "      flex-wrap:wrap;\n",
              "      gap: 12px;\n",
              "    }\n",
              "\n",
              "    .colab-df-convert {\n",
              "      background-color: #E8F0FE;\n",
              "      border: none;\n",
              "      border-radius: 50%;\n",
              "      cursor: pointer;\n",
              "      display: none;\n",
              "      fill: #1967D2;\n",
              "      height: 32px;\n",
              "      padding: 0 0 0 0;\n",
              "      width: 32px;\n",
              "    }\n",
              "\n",
              "    .colab-df-convert:hover {\n",
              "      background-color: #E2EBFA;\n",
              "      box-shadow: 0px 1px 2px rgba(60, 64, 67, 0.3), 0px 1px 3px 1px rgba(60, 64, 67, 0.15);\n",
              "      fill: #174EA6;\n",
              "    }\n",
              "\n",
              "    [theme=dark] .colab-df-convert {\n",
              "      background-color: #3B4455;\n",
              "      fill: #D2E3FC;\n",
              "    }\n",
              "\n",
              "    [theme=dark] .colab-df-convert:hover {\n",
              "      background-color: #434B5C;\n",
              "      box-shadow: 0px 1px 3px 1px rgba(0, 0, 0, 0.15);\n",
              "      filter: drop-shadow(0px 1px 2px rgba(0, 0, 0, 0.3));\n",
              "      fill: #FFFFFF;\n",
              "    }\n",
              "  </style>\n",
              "\n",
              "      <script>\n",
              "        const buttonEl =\n",
              "          document.querySelector('#df-1c6bcd82-40f9-4e56-b14f-6557f24f9122 button.colab-df-convert');\n",
              "        buttonEl.style.display =\n",
              "          google.colab.kernel.accessAllowed ? 'block' : 'none';\n",
              "\n",
              "        async function convertToInteractive(key) {\n",
              "          const element = document.querySelector('#df-1c6bcd82-40f9-4e56-b14f-6557f24f9122');\n",
              "          const dataTable =\n",
              "            await google.colab.kernel.invokeFunction('convertToInteractive',\n",
              "                                                     [key], {});\n",
              "          if (!dataTable) return;\n",
              "\n",
              "          const docLinkHtml = 'Like what you see? Visit the ' +\n",
              "            '<a target=\"_blank\" href=https://colab.research.google.com/notebooks/data_table.ipynb>data table notebook</a>'\n",
              "            + ' to learn more about interactive tables.';\n",
              "          element.innerHTML = '';\n",
              "          dataTable['output_type'] = 'display_data';\n",
              "          await google.colab.output.renderOutput(dataTable, element);\n",
              "          const docLink = document.createElement('div');\n",
              "          docLink.innerHTML = docLinkHtml;\n",
              "          element.appendChild(docLink);\n",
              "        }\n",
              "      </script>\n",
              "    </div>\n",
              "  </div>\n",
              "  "
            ]
          },
          "metadata": {},
          "execution_count": 33
        }
      ]
    },
    {
      "cell_type": "code",
      "source": [
        "print(data['type']=='Thai')\n"
      ],
      "metadata": {
        "id": "JUmDEGg-u-xl"
      },
      "execution_count": null,
      "outputs": []
    },
    {
      "cell_type": "code",
      "source": [
        "print(data[ data['type'] == 'Thai'])"
      ],
      "metadata": {
        "colab": {
          "base_uri": "https://localhost:8080/"
        },
        "id": "-ZeI5UIsvR4j",
        "outputId": "357a2c96-38bd-4582-bf24-e8db4e37341b"
      },
      "execution_count": 40,
      "outputs": [
        {
          "output_type": "stream",
          "name": "stdout",
          "text": [
            "    alt bar  fri  hun   pat price rain  res  type    est target\n",
            "1   Yes  No   No  Yes  Full     $   No   No  Thai  30-60     No\n",
            "3   Yes  No  Yes  Yes  Full     $   No   No  Thai  10-30    Yes\n",
            "7    No  No   No  Yes  Some    $$  Yes  Yes  Thai   0-10    Yes\n",
            "10   No  No   No   No  None     $   No   No  Thai   0-10     No\n"
          ]
        }
      ]
    },
    {
      "cell_type": "code",
      "source": [
        "print(data[data['type'] == 'Italian'])"
      ],
      "metadata": {
        "colab": {
          "base_uri": "https://localhost:8080/"
        },
        "id": "mjl2DgBnvZSu",
        "outputId": "11d78e70-6c00-4b19-ba51-ec18c6799cc8"
      },
      "execution_count": 41,
      "outputs": [
        {
          "output_type": "stream",
          "name": "stdout",
          "text": [
            "   alt  bar  fri  hun   pat price rain  res     type    est target\n",
            "5   No  Yes   No  Yes  Some    $$  Yes  Yes  Italian   0-10    Yes\n",
            "9  Yes  Yes  Yes  Yes  Full   $$$   No  Yes  Italian  10-30     No\n"
          ]
        }
      ]
    }
  ]
}