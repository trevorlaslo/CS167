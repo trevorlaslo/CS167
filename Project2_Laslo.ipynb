{
  "nbformat": 4,
  "nbformat_minor": 0,
  "metadata": {
    "colab": {
      "provenance": [],
      "authorship_tag": "ABX9TyNiy2ihGFVpq8V8If+7CEMU",
      "include_colab_link": true
    },
    "kernelspec": {
      "name": "python3",
      "display_name": "Python 3"
    },
    "language_info": {
      "name": "python"
    }
  },
  "cells": [
    {
      "cell_type": "markdown",
      "metadata": {
        "id": "view-in-github",
        "colab_type": "text"
      },
      "source": [
        "<a href=\"https://colab.research.google.com/github/trevorlaslo/CS167/blob/main/Project2_Laslo.ipynb\" target=\"_parent\"><img src=\"https://colab.research.google.com/assets/colab-badge.svg\" alt=\"Open In Colab\"/></a>"
      ]
    },
    {
      "cell_type": "code",
      "execution_count": 2,
      "metadata": {
        "colab": {
          "base_uri": "https://localhost:8080/"
        },
        "id": "nKi3XHe2vSd3",
        "outputId": "346d56ea-4ea6-46c8-be4f-aeb2a8034f02"
      },
      "outputs": [
        {
          "output_type": "stream",
          "name": "stdout",
          "text": [
            "Mounted at /content/drive\n"
          ]
        }
      ],
      "source": [
        "from google.colab import drive\n",
        "import pandas as pd\n",
        "drive.mount('/content/drive')"
      ]
    },
    {
      "cell_type": "code",
      "source": [
        "import pandas as pd\n",
        "path = '/content/drive/MyDrive/Colab Notebooks/2021-2022.csv'\n",
        "prem_data = pd.read_csv(path)\n",
        "prem_data.head()"
      ],
      "metadata": {
        "colab": {
          "base_uri": "https://localhost:8080/",
          "height": 334
        },
        "id": "GUM9uwsLwv00",
        "outputId": "c060cef5-a87e-4ebd-d853-6f59e6e0207f"
      },
      "execution_count": 3,
      "outputs": [
        {
          "output_type": "execute_result",
          "data": {
            "text/plain": [
              "  Div        Date   Time    HomeTeam        AwayTeam  FTHG  FTAG FTR  HTHG  \\\n",
              "0  E0  13/08/2021  20:00   Brentford         Arsenal     2     0   H     1   \n",
              "1  E0  14/08/2021  12:30  Man United           Leeds     5     1   H     1   \n",
              "2  E0  14/08/2021  15:00     Burnley        Brighton     1     2   A     1   \n",
              "3  E0  14/08/2021  15:00     Chelsea  Crystal Palace     3     0   H     2   \n",
              "4  E0  14/08/2021  15:00     Everton     Southampton     3     1   H     0   \n",
              "\n",
              "   HTAG  ... AvgC<2.5  AHCh  B365CAHH  B365CAHA  PCAHH  PCAHA  MaxCAHH  \\\n",
              "0     0  ...     1.62  0.50      1.75      2.05   1.81   2.13     2.05   \n",
              "1     0  ...     2.25 -1.00      2.05      1.75   2.17   1.77     2.19   \n",
              "2     0  ...     1.62  0.25      1.79      2.15   1.81   2.14     1.82   \n",
              "3     0  ...     1.94 -1.50      2.05      1.75   2.12   1.81     2.16   \n",
              "4     1  ...     1.67 -0.50      2.05      1.88   2.05   1.88     2.08   \n",
              "\n",
              "   MaxCAHA  AvgCAHH  AvgCAHA  \n",
              "0     2.17     1.80     2.09  \n",
              "1     1.93     2.10     1.79  \n",
              "2     2.19     1.79     2.12  \n",
              "3     1.93     2.06     1.82  \n",
              "4     1.90     2.03     1.86  \n",
              "\n",
              "[5 rows x 106 columns]"
            ],
            "text/html": [
              "\n",
              "  <div id=\"df-d99462e7-9654-4d96-8611-b388833d23bb\">\n",
              "    <div class=\"colab-df-container\">\n",
              "      <div>\n",
              "<style scoped>\n",
              "    .dataframe tbody tr th:only-of-type {\n",
              "        vertical-align: middle;\n",
              "    }\n",
              "\n",
              "    .dataframe tbody tr th {\n",
              "        vertical-align: top;\n",
              "    }\n",
              "\n",
              "    .dataframe thead th {\n",
              "        text-align: right;\n",
              "    }\n",
              "</style>\n",
              "<table border=\"1\" class=\"dataframe\">\n",
              "  <thead>\n",
              "    <tr style=\"text-align: right;\">\n",
              "      <th></th>\n",
              "      <th>Div</th>\n",
              "      <th>Date</th>\n",
              "      <th>Time</th>\n",
              "      <th>HomeTeam</th>\n",
              "      <th>AwayTeam</th>\n",
              "      <th>FTHG</th>\n",
              "      <th>FTAG</th>\n",
              "      <th>FTR</th>\n",
              "      <th>HTHG</th>\n",
              "      <th>HTAG</th>\n",
              "      <th>...</th>\n",
              "      <th>AvgC&lt;2.5</th>\n",
              "      <th>AHCh</th>\n",
              "      <th>B365CAHH</th>\n",
              "      <th>B365CAHA</th>\n",
              "      <th>PCAHH</th>\n",
              "      <th>PCAHA</th>\n",
              "      <th>MaxCAHH</th>\n",
              "      <th>MaxCAHA</th>\n",
              "      <th>AvgCAHH</th>\n",
              "      <th>AvgCAHA</th>\n",
              "    </tr>\n",
              "  </thead>\n",
              "  <tbody>\n",
              "    <tr>\n",
              "      <th>0</th>\n",
              "      <td>E0</td>\n",
              "      <td>13/08/2021</td>\n",
              "      <td>20:00</td>\n",
              "      <td>Brentford</td>\n",
              "      <td>Arsenal</td>\n",
              "      <td>2</td>\n",
              "      <td>0</td>\n",
              "      <td>H</td>\n",
              "      <td>1</td>\n",
              "      <td>0</td>\n",
              "      <td>...</td>\n",
              "      <td>1.62</td>\n",
              "      <td>0.50</td>\n",
              "      <td>1.75</td>\n",
              "      <td>2.05</td>\n",
              "      <td>1.81</td>\n",
              "      <td>2.13</td>\n",
              "      <td>2.05</td>\n",
              "      <td>2.17</td>\n",
              "      <td>1.80</td>\n",
              "      <td>2.09</td>\n",
              "    </tr>\n",
              "    <tr>\n",
              "      <th>1</th>\n",
              "      <td>E0</td>\n",
              "      <td>14/08/2021</td>\n",
              "      <td>12:30</td>\n",
              "      <td>Man United</td>\n",
              "      <td>Leeds</td>\n",
              "      <td>5</td>\n",
              "      <td>1</td>\n",
              "      <td>H</td>\n",
              "      <td>1</td>\n",
              "      <td>0</td>\n",
              "      <td>...</td>\n",
              "      <td>2.25</td>\n",
              "      <td>-1.00</td>\n",
              "      <td>2.05</td>\n",
              "      <td>1.75</td>\n",
              "      <td>2.17</td>\n",
              "      <td>1.77</td>\n",
              "      <td>2.19</td>\n",
              "      <td>1.93</td>\n",
              "      <td>2.10</td>\n",
              "      <td>1.79</td>\n",
              "    </tr>\n",
              "    <tr>\n",
              "      <th>2</th>\n",
              "      <td>E0</td>\n",
              "      <td>14/08/2021</td>\n",
              "      <td>15:00</td>\n",
              "      <td>Burnley</td>\n",
              "      <td>Brighton</td>\n",
              "      <td>1</td>\n",
              "      <td>2</td>\n",
              "      <td>A</td>\n",
              "      <td>1</td>\n",
              "      <td>0</td>\n",
              "      <td>...</td>\n",
              "      <td>1.62</td>\n",
              "      <td>0.25</td>\n",
              "      <td>1.79</td>\n",
              "      <td>2.15</td>\n",
              "      <td>1.81</td>\n",
              "      <td>2.14</td>\n",
              "      <td>1.82</td>\n",
              "      <td>2.19</td>\n",
              "      <td>1.79</td>\n",
              "      <td>2.12</td>\n",
              "    </tr>\n",
              "    <tr>\n",
              "      <th>3</th>\n",
              "      <td>E0</td>\n",
              "      <td>14/08/2021</td>\n",
              "      <td>15:00</td>\n",
              "      <td>Chelsea</td>\n",
              "      <td>Crystal Palace</td>\n",
              "      <td>3</td>\n",
              "      <td>0</td>\n",
              "      <td>H</td>\n",
              "      <td>2</td>\n",
              "      <td>0</td>\n",
              "      <td>...</td>\n",
              "      <td>1.94</td>\n",
              "      <td>-1.50</td>\n",
              "      <td>2.05</td>\n",
              "      <td>1.75</td>\n",
              "      <td>2.12</td>\n",
              "      <td>1.81</td>\n",
              "      <td>2.16</td>\n",
              "      <td>1.93</td>\n",
              "      <td>2.06</td>\n",
              "      <td>1.82</td>\n",
              "    </tr>\n",
              "    <tr>\n",
              "      <th>4</th>\n",
              "      <td>E0</td>\n",
              "      <td>14/08/2021</td>\n",
              "      <td>15:00</td>\n",
              "      <td>Everton</td>\n",
              "      <td>Southampton</td>\n",
              "      <td>3</td>\n",
              "      <td>1</td>\n",
              "      <td>H</td>\n",
              "      <td>0</td>\n",
              "      <td>1</td>\n",
              "      <td>...</td>\n",
              "      <td>1.67</td>\n",
              "      <td>-0.50</td>\n",
              "      <td>2.05</td>\n",
              "      <td>1.88</td>\n",
              "      <td>2.05</td>\n",
              "      <td>1.88</td>\n",
              "      <td>2.08</td>\n",
              "      <td>1.90</td>\n",
              "      <td>2.03</td>\n",
              "      <td>1.86</td>\n",
              "    </tr>\n",
              "  </tbody>\n",
              "</table>\n",
              "<p>5 rows × 106 columns</p>\n",
              "</div>\n",
              "      <button class=\"colab-df-convert\" onclick=\"convertToInteractive('df-d99462e7-9654-4d96-8611-b388833d23bb')\"\n",
              "              title=\"Convert this dataframe to an interactive table.\"\n",
              "              style=\"display:none;\">\n",
              "        \n",
              "  <svg xmlns=\"http://www.w3.org/2000/svg\" height=\"24px\"viewBox=\"0 0 24 24\"\n",
              "       width=\"24px\">\n",
              "    <path d=\"M0 0h24v24H0V0z\" fill=\"none\"/>\n",
              "    <path d=\"M18.56 5.44l.94 2.06.94-2.06 2.06-.94-2.06-.94-.94-2.06-.94 2.06-2.06.94zm-11 1L8.5 8.5l.94-2.06 2.06-.94-2.06-.94L8.5 2.5l-.94 2.06-2.06.94zm10 10l.94 2.06.94-2.06 2.06-.94-2.06-.94-.94-2.06-.94 2.06-2.06.94z\"/><path d=\"M17.41 7.96l-1.37-1.37c-.4-.4-.92-.59-1.43-.59-.52 0-1.04.2-1.43.59L10.3 9.45l-7.72 7.72c-.78.78-.78 2.05 0 2.83L4 21.41c.39.39.9.59 1.41.59.51 0 1.02-.2 1.41-.59l7.78-7.78 2.81-2.81c.8-.78.8-2.07 0-2.86zM5.41 20L4 18.59l7.72-7.72 1.47 1.35L5.41 20z\"/>\n",
              "  </svg>\n",
              "      </button>\n",
              "      \n",
              "  <style>\n",
              "    .colab-df-container {\n",
              "      display:flex;\n",
              "      flex-wrap:wrap;\n",
              "      gap: 12px;\n",
              "    }\n",
              "\n",
              "    .colab-df-convert {\n",
              "      background-color: #E8F0FE;\n",
              "      border: none;\n",
              "      border-radius: 50%;\n",
              "      cursor: pointer;\n",
              "      display: none;\n",
              "      fill: #1967D2;\n",
              "      height: 32px;\n",
              "      padding: 0 0 0 0;\n",
              "      width: 32px;\n",
              "    }\n",
              "\n",
              "    .colab-df-convert:hover {\n",
              "      background-color: #E2EBFA;\n",
              "      box-shadow: 0px 1px 2px rgba(60, 64, 67, 0.3), 0px 1px 3px 1px rgba(60, 64, 67, 0.15);\n",
              "      fill: #174EA6;\n",
              "    }\n",
              "\n",
              "    [theme=dark] .colab-df-convert {\n",
              "      background-color: #3B4455;\n",
              "      fill: #D2E3FC;\n",
              "    }\n",
              "\n",
              "    [theme=dark] .colab-df-convert:hover {\n",
              "      background-color: #434B5C;\n",
              "      box-shadow: 0px 1px 3px 1px rgba(0, 0, 0, 0.15);\n",
              "      filter: drop-shadow(0px 1px 2px rgba(0, 0, 0, 0.3));\n",
              "      fill: #FFFFFF;\n",
              "    }\n",
              "  </style>\n",
              "\n",
              "      <script>\n",
              "        const buttonEl =\n",
              "          document.querySelector('#df-d99462e7-9654-4d96-8611-b388833d23bb button.colab-df-convert');\n",
              "        buttonEl.style.display =\n",
              "          google.colab.kernel.accessAllowed ? 'block' : 'none';\n",
              "\n",
              "        async function convertToInteractive(key) {\n",
              "          const element = document.querySelector('#df-d99462e7-9654-4d96-8611-b388833d23bb');\n",
              "          const dataTable =\n",
              "            await google.colab.kernel.invokeFunction('convertToInteractive',\n",
              "                                                     [key], {});\n",
              "          if (!dataTable) return;\n",
              "\n",
              "          const docLinkHtml = 'Like what you see? Visit the ' +\n",
              "            '<a target=\"_blank\" href=https://colab.research.google.com/notebooks/data_table.ipynb>data table notebook</a>'\n",
              "            + ' to learn more about interactive tables.';\n",
              "          element.innerHTML = '';\n",
              "          dataTable['output_type'] = 'display_data';\n",
              "          await google.colab.output.renderOutput(dataTable, element);\n",
              "          const docLink = document.createElement('div');\n",
              "          docLink.innerHTML = docLinkHtml;\n",
              "          element.appendChild(docLink);\n",
              "        }\n",
              "      </script>\n",
              "    </div>\n",
              "  </div>\n",
              "  "
            ]
          },
          "metadata": {},
          "execution_count": 3
        }
      ]
    },
    {
      "cell_type": "code",
      "source": [
        "prem_data['HomeTeam'] = prem_data['HomeTeam'].replace(to_replace='Arsenal', value=1)\n",
        "prem_data['AwayTeam'] = prem_data['AwayTeam'].replace(to_replace='Arsenal', value=1)\n",
        "prem_data['HomeTeam'] = prem_data['HomeTeam'].replace(to_replace='Aston Villa', value=2)\n",
        "prem_data['AwayTeam'] = prem_data['AwayTeam'].replace(to_replace='Aston Villa', value=2)\n",
        "prem_data['HomeTeam'] = prem_data['HomeTeam'].replace(to_replace='Brentford', value=3)\n",
        "prem_data['AwayTeam'] = prem_data['AwayTeam'].replace(to_replace='Brentford', value=3)\n",
        "prem_data['HomeTeam'] = prem_data['HomeTeam'].replace(to_replace='Brighton', value=4)\n",
        "prem_data['AwayTeam'] = prem_data['AwayTeam'].replace(to_replace='Brighton', value=4)\n",
        "prem_data['HomeTeam'] = prem_data['HomeTeam'].replace(to_replace='Burnley', value=5)\n",
        "prem_data['AwayTeam'] = prem_data['AwayTeam'].replace(to_replace='Burnley', value=5)\n",
        "prem_data['HomeTeam'] = prem_data['HomeTeam'].replace(to_replace='Chelsea', value=6)\n",
        "prem_data['AwayTeam'] = prem_data['AwayTeam'].replace(to_replace='Chelsea', value=6)\n",
        "prem_data['HomeTeam'] = prem_data['HomeTeam'].replace(to_replace='Crystal Palace', value=7)\n",
        "prem_data['AwayTeam'] = prem_data['AwayTeam'].replace(to_replace='Crystal Palace', value=7)\n",
        "prem_data['HomeTeam'] = prem_data['HomeTeam'].replace(to_replace='Everton', value=8)\n",
        "prem_data['AwayTeam'] = prem_data['AwayTeam'].replace(to_replace='Everton', value=8)\n",
        "prem_data['HomeTeam'] = prem_data['HomeTeam'].replace(to_replace='Leeds', value=9)\n",
        "prem_data['AwayTeam'] = prem_data['AwayTeam'].replace(to_replace='Leeds', value=9)\n",
        "prem_data['HomeTeam'] = prem_data['HomeTeam'].replace(to_replace='Leicester', value=10)\n",
        "prem_data['AwayTeam'] = prem_data['AwayTeam'].replace(to_replace='Leicester', value=10)\n",
        "prem_data['HomeTeam'] = prem_data['HomeTeam'].replace(to_replace='Liverpool', value=11)\n",
        "prem_data['AwayTeam'] = prem_data['AwayTeam'].replace(to_replace='Liverpool', value=11)\n",
        "prem_data['HomeTeam'] = prem_data['HomeTeam'].replace(to_replace='Man City', value=12)\n",
        "prem_data['AwayTeam'] = prem_data['AwayTeam'].replace(to_replace='Man City', value=12)\n",
        "prem_data['HomeTeam'] = prem_data['HomeTeam'].replace(to_replace='Man United', value=13)\n",
        "prem_data['AwayTeam'] = prem_data['AwayTeam'].replace(to_replace='Man United', value=13)\n",
        "prem_data['HomeTeam'] = prem_data['HomeTeam'].replace(to_replace='Newcastle', value=14)\n",
        "prem_data['AwayTeam'] = prem_data['AwayTeam'].replace(to_replace='Newcastle', value=14)\n",
        "prem_data['HomeTeam'] = prem_data['HomeTeam'].replace(to_replace='Norwich', value=15)\n",
        "prem_data['AwayTeam'] = prem_data['AwayTeam'].replace(to_replace='Norwich', value=15)\n",
        "prem_data['HomeTeam'] = prem_data['HomeTeam'].replace(to_replace='Southampton', value=16)\n",
        "prem_data['AwayTeam'] = prem_data['AwayTeam'].replace(to_replace='Southampton', value=16)\n",
        "prem_data['HomeTeam'] = prem_data['HomeTeam'].replace(to_replace='Tottenham', value=17)\n",
        "prem_data['AwayTeam'] = prem_data['AwayTeam'].replace(to_replace='Tottenham', value=18)\n",
        "prem_data['HomeTeam'] = prem_data['HomeTeam'].replace(to_replace='Watford', value=19)\n",
        "prem_data['AwayTeam'] = prem_data['AwayTeam'].replace(to_replace='Watford', value=19)\n",
        "prem_data['HomeTeam'] = prem_data['HomeTeam'].replace(to_replace='Wolves', value=20)\n",
        "prem_data['AwayTeam'] = prem_data['AwayTeam'].replace(to_replace='Wolves', value=20)\n",
        "prem_data['HomeTeam'] = prem_data['HomeTeam'].replace(to_replace='West Ham', value=21)\n",
        "prem_data['AwayTeam'] = prem_data['AwayTeam'].replace(to_replace='West Ham', value=21)\n",
        "prem_data['FTR'] = prem_data['FTR'].replace(to_replace='H', value=0)\n",
        "prem_data['FTR'] = prem_data['FTR'].replace(to_replace='A', value=1)\n",
        "prem_data['FTR'] = prem_data['FTR'].replace(to_replace='D', value=2)"
      ],
      "metadata": {
        "id": "tPfqnSrD3Vf4"
      },
      "execution_count": 28,
      "outputs": []
    },
    {
      "cell_type": "code",
      "source": [
        "subset1 = prem_data\n",
        "subset1.head"
      ],
      "metadata": {
        "colab": {
          "base_uri": "https://localhost:8080/"
        },
        "id": "D3W-vWFxxTUH",
        "outputId": "ab4c1784-fedc-49d7-e1c3-10ddcc0e8a17"
      },
      "execution_count": 29,
      "outputs": [
        {
          "output_type": "execute_result",
          "data": {
            "text/plain": [
              "<bound method NDFrame.head of     Div        Date   Time  HomeTeam  AwayTeam  FTHG  FTAG  FTR  HTHG  HTAG  \\\n",
              "0    E0  13/08/2021  20:00         3         1     2     0    0     1     0   \n",
              "1    E0  14/08/2021  12:30        13         9     5     1    0     1     0   \n",
              "2    E0  14/08/2021  15:00         5         4     1     2    1     1     0   \n",
              "3    E0  14/08/2021  15:00         6         7     3     0    0     2     0   \n",
              "4    E0  14/08/2021  15:00         8        16     3     1    0     0     1   \n",
              "..   ..         ...    ...       ...       ...   ...   ...  ...   ...   ...   \n",
              "375  E0  22/05/2022  16:00         7        13     1     0    0     1     0   \n",
              "376  E0  22/05/2022  16:00        10        16     4     1    0     0     0   \n",
              "377  E0  22/05/2022  16:00        11        20     3     1    0     1     1   \n",
              "378  E0  22/05/2022  16:00        12         2     3     2    0     0     1   \n",
              "379  E0  22/05/2022  16:00        15        18     0     5    1     0     2   \n",
              "\n",
              "     ... AvgC<2.5  AHCh  B365CAHH  B365CAHA  PCAHH  PCAHA  MaxCAHH  MaxCAHA  \\\n",
              "0    ...     1.62  0.50      1.75      2.05   1.81   2.13     2.05     2.17   \n",
              "1    ...     2.25 -1.00      2.05      1.75   2.17   1.77     2.19     1.93   \n",
              "2    ...     1.62  0.25      1.79      2.15   1.81   2.14     1.82     2.19   \n",
              "3    ...     1.94 -1.50      2.05      1.75   2.12   1.81     2.16     1.93   \n",
              "4    ...     1.67 -0.50      2.05      1.88   2.05   1.88     2.08     1.90   \n",
              "..   ...      ...   ...       ...       ...    ...    ...      ...      ...   \n",
              "375  ...     2.04  0.25      1.68      2.15   1.74   2.23     1.88     2.25   \n",
              "376  ...     2.63 -0.75      1.83      2.07   1.88   2.03     1.94     2.26   \n",
              "377  ...     3.28 -2.50      2.02      1.77   2.06   1.83     2.19     1.99   \n",
              "378  ...     3.36 -2.25      2.06      1.84   2.05   1.86     2.09     2.03   \n",
              "379  ...     2.40  1.50      1.95      1.95   1.96   1.94     2.16     1.98   \n",
              "\n",
              "     AvgCAHH  AvgCAHA  \n",
              "0       1.80     2.09  \n",
              "1       2.10     1.79  \n",
              "2       1.79     2.12  \n",
              "3       2.06     1.82  \n",
              "4       2.03     1.86  \n",
              "..       ...      ...  \n",
              "375     1.74     2.16  \n",
              "376     1.87     2.01  \n",
              "377     2.07     1.80  \n",
              "378     2.01     1.87  \n",
              "379     1.99     1.89  \n",
              "\n",
              "[380 rows x 106 columns]>"
            ]
          },
          "metadata": {},
          "execution_count": 29
        }
      ]
    },
    {
      "cell_type": "code",
      "source": [
        "cols = subset1.columns\n",
        "new_cols = cols.drop(['Referee','Time','Date','Div','HTR'])\n",
        "subset2 = subset1[new_cols]\n",
        "subset2.head()"
      ],
      "metadata": {
        "colab": {
          "base_uri": "https://localhost:8080/",
          "height": 236
        },
        "id": "c_ZLNswU_uym",
        "outputId": "9156a030-e974-4216-87d2-8c83827566d3"
      },
      "execution_count": 72,
      "outputs": [
        {
          "output_type": "execute_result",
          "data": {
            "text/plain": [
              "   HomeTeam  AwayTeam  FTHG  FTAG  FTR  HTHG  HTAG  HS  AS  HST  ...  \\\n",
              "0         3         1     2     0    0     1     0   8  22    3  ...   \n",
              "1        13         9     5     1    0     1     0  16  10    8  ...   \n",
              "2         5         4     1     2    1     1     0  14  14    3  ...   \n",
              "3         6         7     3     0    0     2     0  13   4    6  ...   \n",
              "4         8        16     3     1    0     0     1  14   6    6  ...   \n",
              "\n",
              "   AvgC<2.5  AHCh  B365CAHH  B365CAHA  PCAHH  PCAHA  MaxCAHH  MaxCAHA  \\\n",
              "0      1.62  0.50      1.75      2.05   1.81   2.13     2.05     2.17   \n",
              "1      2.25 -1.00      2.05      1.75   2.17   1.77     2.19     1.93   \n",
              "2      1.62  0.25      1.79      2.15   1.81   2.14     1.82     2.19   \n",
              "3      1.94 -1.50      2.05      1.75   2.12   1.81     2.16     1.93   \n",
              "4      1.67 -0.50      2.05      1.88   2.05   1.88     2.08     1.90   \n",
              "\n",
              "   AvgCAHH  AvgCAHA  \n",
              "0     1.80     2.09  \n",
              "1     2.10     1.79  \n",
              "2     1.79     2.12  \n",
              "3     2.06     1.82  \n",
              "4     2.03     1.86  \n",
              "\n",
              "[5 rows x 101 columns]"
            ],
            "text/html": [
              "\n",
              "  <div id=\"df-f2c532e3-5400-48e9-a1b1-0369755f54a6\">\n",
              "    <div class=\"colab-df-container\">\n",
              "      <div>\n",
              "<style scoped>\n",
              "    .dataframe tbody tr th:only-of-type {\n",
              "        vertical-align: middle;\n",
              "    }\n",
              "\n",
              "    .dataframe tbody tr th {\n",
              "        vertical-align: top;\n",
              "    }\n",
              "\n",
              "    .dataframe thead th {\n",
              "        text-align: right;\n",
              "    }\n",
              "</style>\n",
              "<table border=\"1\" class=\"dataframe\">\n",
              "  <thead>\n",
              "    <tr style=\"text-align: right;\">\n",
              "      <th></th>\n",
              "      <th>HomeTeam</th>\n",
              "      <th>AwayTeam</th>\n",
              "      <th>FTHG</th>\n",
              "      <th>FTAG</th>\n",
              "      <th>FTR</th>\n",
              "      <th>HTHG</th>\n",
              "      <th>HTAG</th>\n",
              "      <th>HS</th>\n",
              "      <th>AS</th>\n",
              "      <th>HST</th>\n",
              "      <th>...</th>\n",
              "      <th>AvgC&lt;2.5</th>\n",
              "      <th>AHCh</th>\n",
              "      <th>B365CAHH</th>\n",
              "      <th>B365CAHA</th>\n",
              "      <th>PCAHH</th>\n",
              "      <th>PCAHA</th>\n",
              "      <th>MaxCAHH</th>\n",
              "      <th>MaxCAHA</th>\n",
              "      <th>AvgCAHH</th>\n",
              "      <th>AvgCAHA</th>\n",
              "    </tr>\n",
              "  </thead>\n",
              "  <tbody>\n",
              "    <tr>\n",
              "      <th>0</th>\n",
              "      <td>3</td>\n",
              "      <td>1</td>\n",
              "      <td>2</td>\n",
              "      <td>0</td>\n",
              "      <td>0</td>\n",
              "      <td>1</td>\n",
              "      <td>0</td>\n",
              "      <td>8</td>\n",
              "      <td>22</td>\n",
              "      <td>3</td>\n",
              "      <td>...</td>\n",
              "      <td>1.62</td>\n",
              "      <td>0.50</td>\n",
              "      <td>1.75</td>\n",
              "      <td>2.05</td>\n",
              "      <td>1.81</td>\n",
              "      <td>2.13</td>\n",
              "      <td>2.05</td>\n",
              "      <td>2.17</td>\n",
              "      <td>1.80</td>\n",
              "      <td>2.09</td>\n",
              "    </tr>\n",
              "    <tr>\n",
              "      <th>1</th>\n",
              "      <td>13</td>\n",
              "      <td>9</td>\n",
              "      <td>5</td>\n",
              "      <td>1</td>\n",
              "      <td>0</td>\n",
              "      <td>1</td>\n",
              "      <td>0</td>\n",
              "      <td>16</td>\n",
              "      <td>10</td>\n",
              "      <td>8</td>\n",
              "      <td>...</td>\n",
              "      <td>2.25</td>\n",
              "      <td>-1.00</td>\n",
              "      <td>2.05</td>\n",
              "      <td>1.75</td>\n",
              "      <td>2.17</td>\n",
              "      <td>1.77</td>\n",
              "      <td>2.19</td>\n",
              "      <td>1.93</td>\n",
              "      <td>2.10</td>\n",
              "      <td>1.79</td>\n",
              "    </tr>\n",
              "    <tr>\n",
              "      <th>2</th>\n",
              "      <td>5</td>\n",
              "      <td>4</td>\n",
              "      <td>1</td>\n",
              "      <td>2</td>\n",
              "      <td>1</td>\n",
              "      <td>1</td>\n",
              "      <td>0</td>\n",
              "      <td>14</td>\n",
              "      <td>14</td>\n",
              "      <td>3</td>\n",
              "      <td>...</td>\n",
              "      <td>1.62</td>\n",
              "      <td>0.25</td>\n",
              "      <td>1.79</td>\n",
              "      <td>2.15</td>\n",
              "      <td>1.81</td>\n",
              "      <td>2.14</td>\n",
              "      <td>1.82</td>\n",
              "      <td>2.19</td>\n",
              "      <td>1.79</td>\n",
              "      <td>2.12</td>\n",
              "    </tr>\n",
              "    <tr>\n",
              "      <th>3</th>\n",
              "      <td>6</td>\n",
              "      <td>7</td>\n",
              "      <td>3</td>\n",
              "      <td>0</td>\n",
              "      <td>0</td>\n",
              "      <td>2</td>\n",
              "      <td>0</td>\n",
              "      <td>13</td>\n",
              "      <td>4</td>\n",
              "      <td>6</td>\n",
              "      <td>...</td>\n",
              "      <td>1.94</td>\n",
              "      <td>-1.50</td>\n",
              "      <td>2.05</td>\n",
              "      <td>1.75</td>\n",
              "      <td>2.12</td>\n",
              "      <td>1.81</td>\n",
              "      <td>2.16</td>\n",
              "      <td>1.93</td>\n",
              "      <td>2.06</td>\n",
              "      <td>1.82</td>\n",
              "    </tr>\n",
              "    <tr>\n",
              "      <th>4</th>\n",
              "      <td>8</td>\n",
              "      <td>16</td>\n",
              "      <td>3</td>\n",
              "      <td>1</td>\n",
              "      <td>0</td>\n",
              "      <td>0</td>\n",
              "      <td>1</td>\n",
              "      <td>14</td>\n",
              "      <td>6</td>\n",
              "      <td>6</td>\n",
              "      <td>...</td>\n",
              "      <td>1.67</td>\n",
              "      <td>-0.50</td>\n",
              "      <td>2.05</td>\n",
              "      <td>1.88</td>\n",
              "      <td>2.05</td>\n",
              "      <td>1.88</td>\n",
              "      <td>2.08</td>\n",
              "      <td>1.90</td>\n",
              "      <td>2.03</td>\n",
              "      <td>1.86</td>\n",
              "    </tr>\n",
              "  </tbody>\n",
              "</table>\n",
              "<p>5 rows × 101 columns</p>\n",
              "</div>\n",
              "      <button class=\"colab-df-convert\" onclick=\"convertToInteractive('df-f2c532e3-5400-48e9-a1b1-0369755f54a6')\"\n",
              "              title=\"Convert this dataframe to an interactive table.\"\n",
              "              style=\"display:none;\">\n",
              "        \n",
              "  <svg xmlns=\"http://www.w3.org/2000/svg\" height=\"24px\"viewBox=\"0 0 24 24\"\n",
              "       width=\"24px\">\n",
              "    <path d=\"M0 0h24v24H0V0z\" fill=\"none\"/>\n",
              "    <path d=\"M18.56 5.44l.94 2.06.94-2.06 2.06-.94-2.06-.94-.94-2.06-.94 2.06-2.06.94zm-11 1L8.5 8.5l.94-2.06 2.06-.94-2.06-.94L8.5 2.5l-.94 2.06-2.06.94zm10 10l.94 2.06.94-2.06 2.06-.94-2.06-.94-.94-2.06-.94 2.06-2.06.94z\"/><path d=\"M17.41 7.96l-1.37-1.37c-.4-.4-.92-.59-1.43-.59-.52 0-1.04.2-1.43.59L10.3 9.45l-7.72 7.72c-.78.78-.78 2.05 0 2.83L4 21.41c.39.39.9.59 1.41.59.51 0 1.02-.2 1.41-.59l7.78-7.78 2.81-2.81c.8-.78.8-2.07 0-2.86zM5.41 20L4 18.59l7.72-7.72 1.47 1.35L5.41 20z\"/>\n",
              "  </svg>\n",
              "      </button>\n",
              "      \n",
              "  <style>\n",
              "    .colab-df-container {\n",
              "      display:flex;\n",
              "      flex-wrap:wrap;\n",
              "      gap: 12px;\n",
              "    }\n",
              "\n",
              "    .colab-df-convert {\n",
              "      background-color: #E8F0FE;\n",
              "      border: none;\n",
              "      border-radius: 50%;\n",
              "      cursor: pointer;\n",
              "      display: none;\n",
              "      fill: #1967D2;\n",
              "      height: 32px;\n",
              "      padding: 0 0 0 0;\n",
              "      width: 32px;\n",
              "    }\n",
              "\n",
              "    .colab-df-convert:hover {\n",
              "      background-color: #E2EBFA;\n",
              "      box-shadow: 0px 1px 2px rgba(60, 64, 67, 0.3), 0px 1px 3px 1px rgba(60, 64, 67, 0.15);\n",
              "      fill: #174EA6;\n",
              "    }\n",
              "\n",
              "    [theme=dark] .colab-df-convert {\n",
              "      background-color: #3B4455;\n",
              "      fill: #D2E3FC;\n",
              "    }\n",
              "\n",
              "    [theme=dark] .colab-df-convert:hover {\n",
              "      background-color: #434B5C;\n",
              "      box-shadow: 0px 1px 3px 1px rgba(0, 0, 0, 0.15);\n",
              "      filter: drop-shadow(0px 1px 2px rgba(0, 0, 0, 0.3));\n",
              "      fill: #FFFFFF;\n",
              "    }\n",
              "  </style>\n",
              "\n",
              "      <script>\n",
              "        const buttonEl =\n",
              "          document.querySelector('#df-f2c532e3-5400-48e9-a1b1-0369755f54a6 button.colab-df-convert');\n",
              "        buttonEl.style.display =\n",
              "          google.colab.kernel.accessAllowed ? 'block' : 'none';\n",
              "\n",
              "        async function convertToInteractive(key) {\n",
              "          const element = document.querySelector('#df-f2c532e3-5400-48e9-a1b1-0369755f54a6');\n",
              "          const dataTable =\n",
              "            await google.colab.kernel.invokeFunction('convertToInteractive',\n",
              "                                                     [key], {});\n",
              "          if (!dataTable) return;\n",
              "\n",
              "          const docLinkHtml = 'Like what you see? Visit the ' +\n",
              "            '<a target=\"_blank\" href=https://colab.research.google.com/notebooks/data_table.ipynb>data table notebook</a>'\n",
              "            + ' to learn more about interactive tables.';\n",
              "          element.innerHTML = '';\n",
              "          dataTable['output_type'] = 'display_data';\n",
              "          await google.colab.output.renderOutput(dataTable, element);\n",
              "          const docLink = document.createElement('div');\n",
              "          docLink.innerHTML = docLinkHtml;\n",
              "          element.appendChild(docLink);\n",
              "        }\n",
              "      </script>\n",
              "    </div>\n",
              "  </div>\n",
              "  "
            ]
          },
          "metadata": {},
          "execution_count": 72
        }
      ]
    },
    {
      "cell_type": "code",
      "source": [
        "target= 'FTR'\n",
        "predictors = subset2.columns.drop(target)\n",
        "train_data, test_data, train_sln, test_sln = train_test_split(subset2[predictors], subset2[target], test_size = 0.2, random_state=110)\n",
        "train_data.head()"
      ],
      "metadata": {
        "colab": {
          "base_uri": "https://localhost:8080/",
          "height": 236
        },
        "id": "uwMjw8-38aJV",
        "outputId": "87f752b4-6fad-4b04-e253-41804681bb58"
      },
      "execution_count": 53,
      "outputs": [
        {
          "output_type": "execute_result",
          "data": {
            "text/plain": [
              "     HomeTeam  AwayTeam  FTHG  FTAG  HTHG  HTAG  HS  AS  HST  AST  ...  \\\n",
              "327         5        20     1     0     0     0  14  10    5    4  ...   \n",
              "72         10        13     4     2     1     1  22  18   11    6  ...   \n",
              "134        20         5     0     0     0     0  16   6    2    1  ...   \n",
              "253         4         2     0     2     0     1  12   9    1    4  ...   \n",
              "8          14        21     2     4     2     1  17   8    3    9  ...   \n",
              "\n",
              "     AvgC<2.5  AHCh  B365CAHH  B365CAHA  PCAHH  PCAHA  MaxCAHH  MaxCAHA  \\\n",
              "327      1.60 -0.25       NaN       NaN   2.18   1.79     2.20     1.92   \n",
              "72       2.23  0.50      1.94      1.99   1.93   1.99     1.96     2.10   \n",
              "134      1.70 -0.50      1.91      1.99   1.88   2.04     2.00     2.04   \n",
              "253      1.70 -0.25      1.91      1.99   1.93   2.00     1.96     2.02   \n",
              "8        1.95  0.25      2.01      1.92   2.02   1.91     2.12     1.94   \n",
              "\n",
              "     AvgCAHH  AvgCAHA  \n",
              "327     2.15     1.76  \n",
              "72      1.89     1.99  \n",
              "134     1.94     1.94  \n",
              "253     1.90     1.97  \n",
              "8       2.00     1.89  \n",
              "\n",
              "[5 rows x 100 columns]"
            ],
            "text/html": [
              "\n",
              "  <div id=\"df-763d108b-8d77-43ab-b17b-53597811c3cf\">\n",
              "    <div class=\"colab-df-container\">\n",
              "      <div>\n",
              "<style scoped>\n",
              "    .dataframe tbody tr th:only-of-type {\n",
              "        vertical-align: middle;\n",
              "    }\n",
              "\n",
              "    .dataframe tbody tr th {\n",
              "        vertical-align: top;\n",
              "    }\n",
              "\n",
              "    .dataframe thead th {\n",
              "        text-align: right;\n",
              "    }\n",
              "</style>\n",
              "<table border=\"1\" class=\"dataframe\">\n",
              "  <thead>\n",
              "    <tr style=\"text-align: right;\">\n",
              "      <th></th>\n",
              "      <th>HomeTeam</th>\n",
              "      <th>AwayTeam</th>\n",
              "      <th>FTHG</th>\n",
              "      <th>FTAG</th>\n",
              "      <th>HTHG</th>\n",
              "      <th>HTAG</th>\n",
              "      <th>HS</th>\n",
              "      <th>AS</th>\n",
              "      <th>HST</th>\n",
              "      <th>AST</th>\n",
              "      <th>...</th>\n",
              "      <th>AvgC&lt;2.5</th>\n",
              "      <th>AHCh</th>\n",
              "      <th>B365CAHH</th>\n",
              "      <th>B365CAHA</th>\n",
              "      <th>PCAHH</th>\n",
              "      <th>PCAHA</th>\n",
              "      <th>MaxCAHH</th>\n",
              "      <th>MaxCAHA</th>\n",
              "      <th>AvgCAHH</th>\n",
              "      <th>AvgCAHA</th>\n",
              "    </tr>\n",
              "  </thead>\n",
              "  <tbody>\n",
              "    <tr>\n",
              "      <th>327</th>\n",
              "      <td>5</td>\n",
              "      <td>20</td>\n",
              "      <td>1</td>\n",
              "      <td>0</td>\n",
              "      <td>0</td>\n",
              "      <td>0</td>\n",
              "      <td>14</td>\n",
              "      <td>10</td>\n",
              "      <td>5</td>\n",
              "      <td>4</td>\n",
              "      <td>...</td>\n",
              "      <td>1.60</td>\n",
              "      <td>-0.25</td>\n",
              "      <td>NaN</td>\n",
              "      <td>NaN</td>\n",
              "      <td>2.18</td>\n",
              "      <td>1.79</td>\n",
              "      <td>2.20</td>\n",
              "      <td>1.92</td>\n",
              "      <td>2.15</td>\n",
              "      <td>1.76</td>\n",
              "    </tr>\n",
              "    <tr>\n",
              "      <th>72</th>\n",
              "      <td>10</td>\n",
              "      <td>13</td>\n",
              "      <td>4</td>\n",
              "      <td>2</td>\n",
              "      <td>1</td>\n",
              "      <td>1</td>\n",
              "      <td>22</td>\n",
              "      <td>18</td>\n",
              "      <td>11</td>\n",
              "      <td>6</td>\n",
              "      <td>...</td>\n",
              "      <td>2.23</td>\n",
              "      <td>0.50</td>\n",
              "      <td>1.94</td>\n",
              "      <td>1.99</td>\n",
              "      <td>1.93</td>\n",
              "      <td>1.99</td>\n",
              "      <td>1.96</td>\n",
              "      <td>2.10</td>\n",
              "      <td>1.89</td>\n",
              "      <td>1.99</td>\n",
              "    </tr>\n",
              "    <tr>\n",
              "      <th>134</th>\n",
              "      <td>20</td>\n",
              "      <td>5</td>\n",
              "      <td>0</td>\n",
              "      <td>0</td>\n",
              "      <td>0</td>\n",
              "      <td>0</td>\n",
              "      <td>16</td>\n",
              "      <td>6</td>\n",
              "      <td>2</td>\n",
              "      <td>1</td>\n",
              "      <td>...</td>\n",
              "      <td>1.70</td>\n",
              "      <td>-0.50</td>\n",
              "      <td>1.91</td>\n",
              "      <td>1.99</td>\n",
              "      <td>1.88</td>\n",
              "      <td>2.04</td>\n",
              "      <td>2.00</td>\n",
              "      <td>2.04</td>\n",
              "      <td>1.94</td>\n",
              "      <td>1.94</td>\n",
              "    </tr>\n",
              "    <tr>\n",
              "      <th>253</th>\n",
              "      <td>4</td>\n",
              "      <td>2</td>\n",
              "      <td>0</td>\n",
              "      <td>2</td>\n",
              "      <td>0</td>\n",
              "      <td>1</td>\n",
              "      <td>12</td>\n",
              "      <td>9</td>\n",
              "      <td>1</td>\n",
              "      <td>4</td>\n",
              "      <td>...</td>\n",
              "      <td>1.70</td>\n",
              "      <td>-0.25</td>\n",
              "      <td>1.91</td>\n",
              "      <td>1.99</td>\n",
              "      <td>1.93</td>\n",
              "      <td>2.00</td>\n",
              "      <td>1.96</td>\n",
              "      <td>2.02</td>\n",
              "      <td>1.90</td>\n",
              "      <td>1.97</td>\n",
              "    </tr>\n",
              "    <tr>\n",
              "      <th>8</th>\n",
              "      <td>14</td>\n",
              "      <td>21</td>\n",
              "      <td>2</td>\n",
              "      <td>4</td>\n",
              "      <td>2</td>\n",
              "      <td>1</td>\n",
              "      <td>17</td>\n",
              "      <td>8</td>\n",
              "      <td>3</td>\n",
              "      <td>9</td>\n",
              "      <td>...</td>\n",
              "      <td>1.95</td>\n",
              "      <td>0.25</td>\n",
              "      <td>2.01</td>\n",
              "      <td>1.92</td>\n",
              "      <td>2.02</td>\n",
              "      <td>1.91</td>\n",
              "      <td>2.12</td>\n",
              "      <td>1.94</td>\n",
              "      <td>2.00</td>\n",
              "      <td>1.89</td>\n",
              "    </tr>\n",
              "  </tbody>\n",
              "</table>\n",
              "<p>5 rows × 100 columns</p>\n",
              "</div>\n",
              "      <button class=\"colab-df-convert\" onclick=\"convertToInteractive('df-763d108b-8d77-43ab-b17b-53597811c3cf')\"\n",
              "              title=\"Convert this dataframe to an interactive table.\"\n",
              "              style=\"display:none;\">\n",
              "        \n",
              "  <svg xmlns=\"http://www.w3.org/2000/svg\" height=\"24px\"viewBox=\"0 0 24 24\"\n",
              "       width=\"24px\">\n",
              "    <path d=\"M0 0h24v24H0V0z\" fill=\"none\"/>\n",
              "    <path d=\"M18.56 5.44l.94 2.06.94-2.06 2.06-.94-2.06-.94-.94-2.06-.94 2.06-2.06.94zm-11 1L8.5 8.5l.94-2.06 2.06-.94-2.06-.94L8.5 2.5l-.94 2.06-2.06.94zm10 10l.94 2.06.94-2.06 2.06-.94-2.06-.94-.94-2.06-.94 2.06-2.06.94z\"/><path d=\"M17.41 7.96l-1.37-1.37c-.4-.4-.92-.59-1.43-.59-.52 0-1.04.2-1.43.59L10.3 9.45l-7.72 7.72c-.78.78-.78 2.05 0 2.83L4 21.41c.39.39.9.59 1.41.59.51 0 1.02-.2 1.41-.59l7.78-7.78 2.81-2.81c.8-.78.8-2.07 0-2.86zM5.41 20L4 18.59l7.72-7.72 1.47 1.35L5.41 20z\"/>\n",
              "  </svg>\n",
              "      </button>\n",
              "      \n",
              "  <style>\n",
              "    .colab-df-container {\n",
              "      display:flex;\n",
              "      flex-wrap:wrap;\n",
              "      gap: 12px;\n",
              "    }\n",
              "\n",
              "    .colab-df-convert {\n",
              "      background-color: #E8F0FE;\n",
              "      border: none;\n",
              "      border-radius: 50%;\n",
              "      cursor: pointer;\n",
              "      display: none;\n",
              "      fill: #1967D2;\n",
              "      height: 32px;\n",
              "      padding: 0 0 0 0;\n",
              "      width: 32px;\n",
              "    }\n",
              "\n",
              "    .colab-df-convert:hover {\n",
              "      background-color: #E2EBFA;\n",
              "      box-shadow: 0px 1px 2px rgba(60, 64, 67, 0.3), 0px 1px 3px 1px rgba(60, 64, 67, 0.15);\n",
              "      fill: #174EA6;\n",
              "    }\n",
              "\n",
              "    [theme=dark] .colab-df-convert {\n",
              "      background-color: #3B4455;\n",
              "      fill: #D2E3FC;\n",
              "    }\n",
              "\n",
              "    [theme=dark] .colab-df-convert:hover {\n",
              "      background-color: #434B5C;\n",
              "      box-shadow: 0px 1px 3px 1px rgba(0, 0, 0, 0.15);\n",
              "      filter: drop-shadow(0px 1px 2px rgba(0, 0, 0, 0.3));\n",
              "      fill: #FFFFFF;\n",
              "    }\n",
              "  </style>\n",
              "\n",
              "      <script>\n",
              "        const buttonEl =\n",
              "          document.querySelector('#df-763d108b-8d77-43ab-b17b-53597811c3cf button.colab-df-convert');\n",
              "        buttonEl.style.display =\n",
              "          google.colab.kernel.accessAllowed ? 'block' : 'none';\n",
              "\n",
              "        async function convertToInteractive(key) {\n",
              "          const element = document.querySelector('#df-763d108b-8d77-43ab-b17b-53597811c3cf');\n",
              "          const dataTable =\n",
              "            await google.colab.kernel.invokeFunction('convertToInteractive',\n",
              "                                                     [key], {});\n",
              "          if (!dataTable) return;\n",
              "\n",
              "          const docLinkHtml = 'Like what you see? Visit the ' +\n",
              "            '<a target=\"_blank\" href=https://colab.research.google.com/notebooks/data_table.ipynb>data table notebook</a>'\n",
              "            + ' to learn more about interactive tables.';\n",
              "          element.innerHTML = '';\n",
              "          dataTable['output_type'] = 'display_data';\n",
              "          await google.colab.output.renderOutput(dataTable, element);\n",
              "          const docLink = document.createElement('div');\n",
              "          docLink.innerHTML = docLinkHtml;\n",
              "          element.appendChild(docLink);\n",
              "        }\n",
              "      </script>\n",
              "    </div>\n",
              "  </div>\n",
              "  "
            ]
          },
          "metadata": {},
          "execution_count": 53
        }
      ]
    },
    {
      "cell_type": "code",
      "source": [
        "import sklearn\n",
        "import pandas\n",
        "from sklearn import tree\n",
        "from sklearn.model_selection import train_test_split\n",
        "from sklearn import metrics\n",
        "from sklearn import neighbors\n",
        "\n",
        "train_data, test_data, train_sln, test_sln = train_test_split(subset2[predictors], subset2[target], test_size = 0.2, random_state=110)"
      ],
      "metadata": {
        "id": "HfXrArID9QhG"
      },
      "execution_count": 76,
      "outputs": []
    },
    {
      "cell_type": "code",
      "source": [
        "#from traitlets.config.application import T\n",
        "#missing_data = subset2.isna().any()\n",
        "#print(missing_data.iloc[0])\n",
        "#type(missing_data)\n",
        "\n",
        "#for i in range(len(missing_data)):\n",
        " # if missing_data.iloc[0] == True:\n",
        "#    print(i)\n",
        "\n",
        "print(subset2.shape)\n",
        "subset2.dropna(inplace = True)\n",
        "\n",
        "print(subset2.shape)\n",
        "    \n",
        "\n"
      ],
      "metadata": {
        "colab": {
          "base_uri": "https://localhost:8080/"
        },
        "id": "De04rfvCDNRX",
        "outputId": "c6ee4cf5-e47c-46bf-e44a-9f4e3fc7553f"
      },
      "execution_count": 77,
      "outputs": [
        {
          "output_type": "stream",
          "name": "stdout",
          "text": [
            "(375, 101)\n",
            "(375, 101)\n"
          ]
        },
        {
          "output_type": "stream",
          "name": "stderr",
          "text": [
            "/usr/local/lib/python3.8/dist-packages/pandas/util/_decorators.py:311: SettingWithCopyWarning: \n",
            "A value is trying to be set on a copy of a slice from a DataFrame\n",
            "\n",
            "See the caveats in the documentation: https://pandas.pydata.org/pandas-docs/stable/user_guide/indexing.html#returning-a-view-versus-a-copy\n",
            "  return func(*args, **kwargs)\n"
          ]
        }
      ]
    },
    {
      "cell_type": "code",
      "source": [
        "import sklearn\n",
        "import pandas\n",
        "from sklearn import tree\n",
        "from sklearn.model_selection import train_test_split\n",
        "from sklearn import metrics\n",
        "from sklearn import neighbors\n",
        "target = \"FTR\"\n",
        "predictors = subset2.columns.drop(target)\n",
        "\n",
        "\n",
        "\n",
        "\n",
        "dt = tree.DecisionTreeRegressor()\n",
        "\n",
        "\n",
        "dt.fit(train_data,train_sln)\n",
        "\n",
        "ftr_predictions = dt.predict(test_data)\n",
        "\n",
        "ftr_predictions"
      ],
      "metadata": {
        "colab": {
          "base_uri": "https://localhost:8080/"
        },
        "id": "ywcLkjBt978f",
        "outputId": "f4e5fb5e-7121-40bb-d1f7-8ce3f22e7240"
      },
      "execution_count": 78,
      "outputs": [
        {
          "output_type": "execute_result",
          "data": {
            "text/plain": [
              "array([0., 0., 1., 1., 0., 0., 1., 1., 2., 0., 0., 1., 1., 2., 2., 0., 0.,\n",
              "       2., 1., 2., 0., 2., 0., 2., 1., 1., 0., 2., 2., 2., 0., 2., 0., 0.,\n",
              "       0., 2., 0., 0., 1., 0., 2., 1., 1., 1., 0., 0., 0., 0., 1., 1., 2.,\n",
              "       0., 0., 0., 2., 1., 0., 1., 0., 1., 1., 2., 0., 0., 0., 1., 2., 0.,\n",
              "       2., 1., 2., 0., 2., 0., 2.])"
            ]
          },
          "metadata": {},
          "execution_count": 78
        }
      ]
    },
    {
      "cell_type": "code",
      "source": [
        "import sklearn\n",
        "import pandas\n",
        "from sklearn import tree\n",
        "from sklearn.model_selection import train_test_split\n",
        "from sklearn import metrics\n",
        "from sklearn import neighbors\n",
        "dtr = tree.DecisionTreeRegressor()\n",
        "dtr.fit(train_data, train_sln)\n",
        "dtr_preds = dtr.predict(test_data)\n",
        "dtr_r2 = metrics.r2_score(dtr_preds, test_sln)\n",
        "dtr_r2"
      ],
      "metadata": {
        "colab": {
          "base_uri": "https://localhost:8080/"
        },
        "id": "muZQpUqA-m4p",
        "outputId": "774dedb5-cce6-42de-f175-6b84b140c090"
      },
      "execution_count": 79,
      "outputs": [
        {
          "output_type": "execute_result",
          "data": {
            "text/plain": [
              "0.9221587960560457"
            ]
          },
          "metadata": {},
          "execution_count": 79
        }
      ]
    },
    {
      "cell_type": "code",
      "source": [
        "dtr.feature_importances_.argmax()"
      ],
      "metadata": {
        "colab": {
          "base_uri": "https://localhost:8080/"
        },
        "id": "cawlWLdS-2JD",
        "outputId": "e5e733d7-c4db-46bd-8557-1253f1fabb0e"
      },
      "execution_count": 25,
      "outputs": [
        {
          "output_type": "execute_result",
          "data": {
            "text/plain": [
              "2"
            ]
          },
          "metadata": {},
          "execution_count": 25
        }
      ]
    },
    {
      "cell_type": "code",
      "source": [
        "from sklearn import ensemble\n",
        "from sklearn import metrics\n",
        "\n",
        "forest = ensemble.RandomForestRegressor(random_state = 0, n_estimators=100)\n",
        "forest.fit(train_data,train_sln)\n",
        "predictions = forest.predict(test_data)\n",
        "\n",
        "print('MSE: ', metrics.mean_squared_error(test_sln, predictions))\n",
        "print('MAE: ', metrics.mean_absolute_error(test_sln, predictions))\n",
        "print('r2: ', metrics.r2_score(test_sln, predictions))"
      ],
      "metadata": {
        "colab": {
          "base_uri": "https://localhost:8080/"
        },
        "id": "W2iDGxqXFlLU",
        "outputId": "c59f0302-1ac7-4b64-cb4e-63be2b8c55de"
      },
      "execution_count": 80,
      "outputs": [
        {
          "output_type": "stream",
          "name": "stdout",
          "text": [
            "MSE:  0.08484933333333333\n",
            "MAE:  0.20226666666666665\n",
            "r2:  0.8778091397849462\n"
          ]
        }
      ]
    },
    {
      "cell_type": "code",
      "source": [
        "from sklearn import neighbors\n",
        "\n",
        "neigh = neighbors.KNeighborsRegressor(n_neighbors = 120)\n",
        "\n",
        "\n",
        "neigh.fit(train_data, train_sln)\n",
        "\n",
        "\n",
        "predictions = neigh.predict(test_data)\n",
        "print(predictions)\n",
        "\n",
        "print('MSE: ', metrics.mean_squared_error(test_sln, predictions))\n",
        "print('MAE: ', metrics.mean_absolute_error(test_sln, predictions))\n",
        "print('r2: ', metrics.r2_score(test_sln, predictions))"
      ],
      "metadata": {
        "colab": {
          "base_uri": "https://localhost:8080/"
        },
        "id": "rW4naUxRFsLL",
        "outputId": "367948f0-2d7f-494a-a7f8-2244aaca7c69"
      },
      "execution_count": 81,
      "outputs": [
        {
          "output_type": "stream",
          "name": "stdout",
          "text": [
            "[0.81666667 0.875      0.91666667 0.875      0.61666667 0.775\n",
            " 0.975      0.83333333 0.75       0.76666667 0.83333333 0.89166667\n",
            " 0.925      0.825      0.63333333 0.85       0.84166667 0.85833333\n",
            " 0.86666667 0.96666667 0.79166667 0.9        0.84166667 0.83333333\n",
            " 0.80833333 0.76666667 0.79166667 1.00833333 0.98333333 0.86666667\n",
            " 0.80833333 0.95833333 0.70833333 0.65833333 0.81666667 0.85833333\n",
            " 0.64166667 0.88333333 0.93333333 0.875      0.76666667 0.95833333\n",
            " 0.81666667 0.925      0.61666667 0.64166667 0.88333333 0.61666667\n",
            " 0.975      0.925      0.79166667 0.9        0.76666667 0.61666667\n",
            " 0.86666667 0.98333333 0.60833333 0.89166667 0.60833333 0.91666667\n",
            " 0.99166667 0.875      0.61666667 0.6        0.89166667 0.90833333\n",
            " 0.93333333 0.85833333 0.93333333 0.825      0.85       0.61666667\n",
            " 0.94166667 0.575      0.75      ]\n",
            "MSE:  0.6172981481481481\n",
            "MAE:  0.6739999999999999\n",
            "r2:  0.11103377282812754\n"
          ]
        }
      ]
    },
    {
      "cell_type": "code",
      "source": [
        "from sklearn import neighbors\n",
        "\n",
        "neigh = neighbors.KNeighborsRegressor(n_neighbors = 120, weights = 'distance')\n",
        "\n",
        "\n",
        "neigh.fit(train_data, train_sln)\n",
        "\n",
        "\n",
        "predictions = neigh.predict(test_data)\n",
        "print(predictions)\n",
        "\n",
        "print('MSE: ', metrics.mean_squared_error(test_sln, predictions))\n",
        "print('MAE: ', metrics.mean_absolute_error(test_sln, predictions))\n",
        "print('r2: ', metrics.r2_score(test_sln, predictions))"
      ],
      "metadata": {
        "colab": {
          "base_uri": "https://localhost:8080/"
        },
        "id": "BFuFiQfiGMpm",
        "outputId": "c09baf40-0e6f-472c-a6eb-f18831aa1635"
      },
      "execution_count": 82,
      "outputs": [
        {
          "output_type": "stream",
          "name": "stdout",
          "text": [
            "[0.79959003 0.84556329 0.90981996 0.87379092 0.53879935 0.75741286\n",
            " 0.97890276 0.88007932 0.73092413 0.759042   0.85874381 0.90243861\n",
            " 0.92152697 0.81160571 0.61939371 0.85308113 0.85415969 0.87395407\n",
            " 0.90569632 0.96121958 0.77846183 0.90114168 0.82882397 0.82868636\n",
            " 0.82118293 0.78171344 0.80118131 1.0020217  0.9870143  0.87731246\n",
            " 0.7790587  0.96915692 0.69126549 0.64900764 0.8351179  0.84192885\n",
            " 0.63524563 0.87200508 0.94549    0.85884307 0.75658122 0.96432456\n",
            " 0.78901888 0.92649289 0.58073444 0.60192262 0.87054675 0.60030346\n",
            " 0.96868751 0.92863719 0.79110522 0.90561067 0.75591342 0.61192978\n",
            " 0.85951065 0.99295206 0.59491322 0.91915601 0.54743796 0.91289454\n",
            " 1.00600302 0.87362482 0.55699753 0.55776737 0.90099971 0.89792586\n",
            " 0.94742186 0.87314306 0.94814352 0.82585908 0.85012359 0.56641407\n",
            " 0.93045533 0.5347206  0.75237379]\n",
            "MSE:  0.6091020490741937\n",
            "MAE:  0.6653396164240428\n",
            "r2:  0.12283691089545812\n"
          ]
        }
      ]
    },
    {
      "cell_type": "code",
      "source": [
        "from sklearn.preprocessing import StandardScaler\n",
        "scaler = StandardScaler()\n",
        "scaler.fit(train_data)\n",
        "train_data_normalized = scaler.transform(train_data)\n",
        "test_data_normalized = scaler.transform(test_data)\n",
        "train_data_normalized"
      ],
      "metadata": {
        "colab": {
          "base_uri": "https://localhost:8080/"
        },
        "id": "jGgGiQCjGQlH",
        "outputId": "72208e31-c41f-4b44-80b2-682e5d4309a7"
      },
      "execution_count": 83,
      "outputs": [
        {
          "output_type": "execute_result",
          "data": {
            "text/plain": [
              "array([[-0.41969725,  0.88562158,  1.05920369, ..., -1.43824019,\n",
              "         1.16112316, -1.08482911],\n",
              "       [-0.41969725,  0.03948631, -0.38845511, ...,  0.71071115,\n",
              "        -1.07037554,  0.99436589],\n",
              "       [-0.08438653,  0.37794042,  1.78303309, ...,  0.43041315,\n",
              "        -0.40092593,  0.337778  ],\n",
              "       ...,\n",
              "       [-0.92266333,  0.71639453, -1.11228451, ..., -0.69077885,\n",
              "         0.49167355, -0.42824122],\n",
              "       [ 0.75389027,  0.20871337, -1.11228451, ...,  0.80414382,\n",
              "        -0.51250087,  0.44720931],\n",
              "       [-0.75500797,  0.37794042, -0.38845511, ..., -0.41048085,\n",
              "         0.38009861, -0.42824122]])"
            ]
          },
          "metadata": {},
          "execution_count": 83
        }
      ]
    },
    {
      "cell_type": "code",
      "source": [
        "import sklearn\n",
        "import pandas\n",
        "from sklearn import tree\n",
        "from sklearn.model_selection import train_test_split\n",
        "from sklearn import metrics\n",
        "from sklearn import neighbors\n",
        "\n",
        "target = \"FTR\"\n",
        "predictors = subset2.columns.drop(target)\n",
        "\n",
        "\n",
        "dt = tree.DecisionTreeRegressor()\n",
        "\n",
        "\n",
        "dt.fit(train_data_normalized,train_sln)\n",
        "\n",
        "\n",
        "failure_predictions1 = dt.predict(test_data_normalized)\n",
        "\n",
        "failure_predictions1"
      ],
      "metadata": {
        "colab": {
          "base_uri": "https://localhost:8080/"
        },
        "id": "_6lr6kE8GVAo",
        "outputId": "cab7bd81-eae8-42bc-ad9a-6471539f01be"
      },
      "execution_count": 84,
      "outputs": [
        {
          "output_type": "execute_result",
          "data": {
            "text/plain": [
              "array([0., 2., 1., 1., 0., 0., 1., 1., 2., 0., 0., 1., 1., 2., 2., 0., 0.,\n",
              "       2., 1., 2., 0., 2., 0., 0., 1., 1., 0., 2., 2., 2., 0., 2., 0., 0.,\n",
              "       0., 2., 0., 0., 1., 0., 2., 1., 1., 1., 0., 0., 0., 0., 1., 1., 2.,\n",
              "       0., 0., 0., 2., 1., 0., 1., 0., 1., 1., 2., 0., 0., 0., 1., 2., 0.,\n",
              "       2., 1., 2., 0., 2., 0., 2.])"
            ]
          },
          "metadata": {},
          "execution_count": 84
        }
      ]
    },
    {
      "cell_type": "code",
      "source": [
        "dtr = tree.DecisionTreeRegressor()\n",
        "dtr.fit(train_data_normalized, train_sln)\n",
        "dtr_preds = dtr.predict(test_data_normalized)\n",
        "dtr_r2 = metrics.r2_score(dtr_preds, test_sln)\n",
        "dtr_r2"
      ],
      "metadata": {
        "colab": {
          "base_uri": "https://localhost:8080/"
        },
        "id": "a_bJpjlaGkoT",
        "outputId": "5d482405-c51f-4d3f-c3eb-74791c69b11d"
      },
      "execution_count": 85,
      "outputs": [
        {
          "output_type": "execute_result",
          "data": {
            "text/plain": [
              "0.9221587960560457"
            ]
          },
          "metadata": {},
          "execution_count": 85
        }
      ]
    },
    {
      "cell_type": "code",
      "source": [
        "from sklearn import ensemble\n",
        "from sklearn import metrics\n",
        "\n",
        "forest = ensemble.RandomForestRegressor(random_state = 0, n_estimators=100)\n",
        "forest.fit(train_data_normalized,train_sln)\n",
        "predictions = forest.predict(test_data_normalized)\n",
        "\n",
        "print('MSE: ', metrics.mean_squared_error(test_sln, predictions))\n",
        "print('MAE: ', metrics.mean_absolute_error(test_sln, predictions))\n",
        "print('r2: ', metrics.r2_score(test_sln, predictions))"
      ],
      "metadata": {
        "colab": {
          "base_uri": "https://localhost:8080/"
        },
        "id": "VFzZ9wj3GmEg",
        "outputId": "5d105bcd-9887-4c41-c788-d6661c8f7fdc"
      },
      "execution_count": 86,
      "outputs": [
        {
          "output_type": "stream",
          "name": "stdout",
          "text": [
            "MSE:  0.08419333333333333\n",
            "MAE:  0.20146666666666666\n",
            "r2:  0.8787538402457757\n"
          ]
        }
      ]
    },
    {
      "cell_type": "code",
      "source": [
        "from sklearn import neighbors\n",
        "\n",
        "neigh = neighbors.KNeighborsRegressor(n_neighbors = 120)\n",
        "\n",
        "\n",
        "neigh.fit(train_data_normalized, train_sln)\n",
        "\n",
        "\n",
        "predictions = neigh.predict(test_data_normalized)\n",
        "print(predictions)\n",
        "\n",
        "print('MSE: ', metrics.mean_squared_error(test_sln, predictions))\n",
        "print('MAE: ', metrics.mean_absolute_error(test_sln, predictions))\n",
        "print('r2: ', metrics.r2_score(test_sln, predictions))"
      ],
      "metadata": {
        "colab": {
          "base_uri": "https://localhost:8080/"
        },
        "id": "lRDIYCj6G7yO",
        "outputId": "9329df33-8eeb-43e8-9d40-57a18c8935be"
      },
      "execution_count": 87,
      "outputs": [
        {
          "output_type": "stream",
          "name": "stdout",
          "text": [
            "[0.73333333 0.775      0.83333333 0.85833333 0.55833333 0.75\n",
            " 0.95       0.83333333 0.75       0.74166667 0.79166667 0.825\n",
            " 0.85       0.8        0.65833333 0.84166667 0.75833333 0.79166667\n",
            " 0.86666667 0.925      0.73333333 0.84166667 0.71666667 0.84166667\n",
            " 0.85       0.78333333 0.79166667 0.94166667 0.94166667 0.83333333\n",
            " 0.725      0.925      0.71666667 0.75833333 0.8        0.76666667\n",
            " 0.66666667 0.84166667 0.93333333 0.825      0.75       0.91666667\n",
            " 0.83333333 0.90833333 0.6        0.61666667 0.775      0.63333333\n",
            " 1.00833333 0.85       0.76666667 0.8        0.80833333 0.625\n",
            " 0.825      0.875      0.61666667 0.875      0.58333333 0.88333333\n",
            " 0.96666667 0.8        0.58333333 0.58333333 0.81666667 0.925\n",
            " 0.86666667 0.80833333 0.825      0.825      0.825      0.59166667\n",
            " 0.84166667 0.55       0.73333333]\n",
            "MSE:  0.6224740740740742\n",
            "MAE:  0.6777777777777777\n",
            "r2:  0.10357996245092993\n"
          ]
        }
      ]
    },
    {
      "cell_type": "code",
      "source": [
        "from sklearn import neighbors\n",
        "\n",
        "neigh1 = neighbors.KNeighborsRegressor(n_neighbors = 120, weights = 'distance')\n",
        "\n",
        "\n",
        "neigh1.fit(train_data_normalized, train_sln)\n",
        "\n",
        "\n",
        "predictions = neigh1.predict(test_data_normalized)\n",
        "print(predictions)\n",
        "\n",
        "print('MSE: ', metrics.mean_squared_error(test_sln, predictions))\n",
        "print('MAE: ', metrics.mean_absolute_error(test_sln, predictions))\n",
        "print('r2: ', metrics.r2_score(test_sln, predictions))"
      ],
      "metadata": {
        "colab": {
          "base_uri": "https://localhost:8080/"
        },
        "id": "IsW477GVG-8M",
        "outputId": "9772a65d-7e58-4ff8-93ba-e327bfb5298b"
      },
      "execution_count": 88,
      "outputs": [
        {
          "output_type": "stream",
          "name": "stdout",
          "text": [
            "[0.70721957 0.78069392 0.84185263 0.86332794 0.49498344 0.74539205\n",
            " 0.9625234  0.84770256 0.75515354 0.73111737 0.77808924 0.81838312\n",
            " 0.84755403 0.79896822 0.63924154 0.84681961 0.77414533 0.80607304\n",
            " 0.89331104 0.92185353 0.73099586 0.85368409 0.71061928 0.83789494\n",
            " 0.85854756 0.81076595 0.79035225 0.94258327 0.9470025  0.85061487\n",
            " 0.72924641 0.94172289 0.69636989 0.74272421 0.81368146 0.77687272\n",
            " 0.65906063 0.82270911 0.94513205 0.83258683 0.74334791 0.92392893\n",
            " 0.83277517 0.9188273  0.56757824 0.5908712  0.77223046 0.60170669\n",
            " 1.01786438 0.86260788 0.78127245 0.79758853 0.80696834 0.59158046\n",
            " 0.82649951 0.90333221 0.57951268 0.90010021 0.52129763 0.88709888\n",
            " 0.9926632  0.78682236 0.51874652 0.52720083 0.80750417 0.92293715\n",
            " 0.87459953 0.81779893 0.84382742 0.83101512 0.82521074 0.53640448\n",
            " 0.85430471 0.51326119 0.74032948]\n",
            "MSE:  0.6098175547287189\n",
            "MAE:  0.6659020745849202\n",
            "r2:  0.12180651680772037\n"
          ]
        }
      ]
    },
    {
      "cell_type": "code",
      "source": [
        "from sklearn import metrics\n",
        "from sklearn.tree import DecisionTreeRegressor\n",
        "import matplotlib.pyplot as plt\n",
        "\n",
        "values = range(2, 100, 10)\n",
        "\n",
        "r2 = []\n",
        "\n",
        "for i in values:\n",
        "    dt = DecisionTreeRegressor(min_samples_leaf=i)\n",
        "    dt.fit(train_data, train_sln)\n",
        "    pred = dt.predict(test_data)\n",
        "    r2_val = metrics.r2_score(test_sln, pred)\n",
        "    r2.append(r2_val)\n",
        "\n",
        "values = range(2, 100, 10)\n",
        "plt.suptitle('r2 by k', fontsize=18)\n",
        "plt.xlabel('k')\n",
        "plt.ylabel('r2')\n",
        "plt.plot(values, r2, 'ro-', label='r2')\n",
        "plt.legend(loc='lower right', shadow=True)\n",
        "plt.axis([2, 100 , -1,1])\n",
        "plt.show()"
      ],
      "metadata": {
        "colab": {
          "base_uri": "https://localhost:8080/",
          "height": 308
        },
        "id": "P4xgvPAwHImT",
        "outputId": "49c8136d-1065-4f05-d1e7-bf4191c601c8"
      },
      "execution_count": 89,
      "outputs": [
        {
          "output_type": "display_data",
          "data": {
            "text/plain": [
              "<Figure size 432x288 with 1 Axes>"
            ],
            "image/png": "[encoded data removed]"
          },
          "metadata": {
            "needs_background": "light"
          }
        }
      ]
    },
    {
      "cell_type": "code",
      "source": [
        "from sklearn import metrics\n",
        "from sklearn.ensemble import RandomForestRegressor\n",
        "import matplotlib.pyplot as plt\n",
        "\n",
        "values = range(2, 100, 10)\n",
        "\n",
        "r2 = []\n",
        "\n",
        "for i in values:\n",
        "    rf = RandomForestRegressor(min_samples_leaf=i)\n",
        "    rf.fit(train_data, train_sln)\n",
        "    pred = rf.predict(test_data)\n",
        "    r2_val = metrics.r2_score(test_sln, pred)\n",
        "    r2.append(r2_val)\n",
        "\n",
        "values = range(2, 100, 10)\n",
        "plt.suptitle('r2 by min samples leaf', fontsize=18)\n",
        "plt.xlabel('min samples leaf')\n",
        "plt.ylabel('r2')\n",
        "plt.plot(values, r2, 'ro-', label='r2')\n",
        "plt.legend(loc='lower right', shadow=True)\n",
        "plt.axis([2, 100 , -1,1])\n",
        "plt.show()"
      ],
      "metadata": {
        "colab": {
          "base_uri": "https://localhost:8080/",
          "height": 308
        },
        "id": "iRIpip0jHOCy",
        "outputId": "74533763-8dca-4ebe-9631-fecec66b0e3a"
      },
      "execution_count": 90,
      "outputs": [
        {
          "output_type": "display_data",
          "data": {
            "text/plain": [
              "<Figure size 432x288 with 1 Axes>"
            ],
            "image/png": "[encoded data removed]"
          },
          "metadata": {
            "needs_background": "light"
          }
        }
      ]
    },
    {
      "cell_type": "code",
      "source": [
        "from sklearn import metrics\n",
        "from sklearn.neighbors import KNeighborsRegressor\n",
        "import matplotlib.pyplot as plt\n",
        "\n",
        "values = range(2, 100, 10)\n",
        "\n",
        "r2 = []\n",
        "\n",
        "for i in values:\n",
        "    kn = KNeighborsRegressor(n_neighbors=i)\n",
        "    kn.fit(train_data, train_sln)\n",
        "    pred = kn.predict(test_data)\n",
        "    r2_val = metrics.r2_score(test_sln, pred)\n",
        "    r2.append(r2_val)\n",
        "\n",
        "values = range(2, 100, 10)\n",
        "plt.suptitle('r2 by k', fontsize=18)\n",
        "plt.xlabel('k')\n",
        "plt.ylabel('r2')\n",
        "plt.plot(values, r2, 'ro-', label='r2')\n",
        "plt.legend(loc='lower right', shadow=True)\n",
        "plt.axis([2, 100 , -1,1])\n",
        "plt.show()"
      ],
      "metadata": {
        "colab": {
          "base_uri": "https://localhost:8080/",
          "height": 308
        },
        "id": "HkoHmvEVHXYh",
        "outputId": "450c74d9-f176-4a45-a76a-7f7e31448426"
      },
      "execution_count": 91,
      "outputs": [
        {
          "output_type": "display_data",
          "data": {
            "text/plain": [
              "<Figure size 432x288 with 1 Axes>"
            ],
            "image/png": "[encoded data removed]"
          },
          "metadata": {
            "needs_background": "light"
          }
        }
      ]
    },
    {
      "cell_type": "code",
      "source": [
        "from sklearn import metrics\n",
        "from sklearn.neighbors import KNeighborsRegressor\n",
        "import matplotlib.pyplot as plt\n",
        "\n",
        "values = range(2, 100, 10)\n",
        "\n",
        "r2 = []\n",
        "\n",
        "for i in values:\n",
        "    wkn = KNeighborsRegressor(n_neighbors=i,weights='distance')\n",
        "    wkn.fit(train_data, train_sln)\n",
        "    pred = wkn.predict(test_data)\n",
        "    r2_val = metrics.r2_score(test_sln, pred)\n",
        "    r2.append(r2_val)\n",
        "\n",
        "values = range(2, 100, 10)\n",
        "plt.suptitle('r2 by k', fontsize=18)\n",
        "plt.xlabel('k')\n",
        "plt.ylabel('r2')\n",
        "plt.plot(values, r2, 'ro-', label='r2')\n",
        "plt.legend(loc='lower right', shadow=True)\n",
        "plt.axis([2, 100 , -1,1])\n",
        "plt.show()"
      ],
      "metadata": {
        "colab": {
          "base_uri": "https://localhost:8080/",
          "height": 308
        },
        "id": "3KY7nvQbHcCg",
        "outputId": "77c6a687-9035-47ba-b784-6ed7404b6c0d"
      },
      "execution_count": 92,
      "outputs": [
        {
          "output_type": "display_data",
          "data": {
            "text/plain": [
              "<Figure size 432x288 with 1 Axes>"
            ],
            "image/png": "[encoded data removed]"
          },
          "metadata": {
            "needs_background": "light"
          }
        }
      ]
    },
    {
      "cell_type": "markdown",
      "source": [
        "###Bumps in the Road\n",
        "At first my model was perfect in predicting the full time result because both home and away goals were a really good predictor for the outcome of the game. Originally, I had not used all of the data but afterwards I realized that I had to drop goals and use the entire dataset to get better predictions. Afterwards I got much better predictions. It was also difficult because I had to drop any missing data, which took a bit of time. "
      ],
      "metadata": {
        "id": "wikDhQ5MH1wI"
      }
    },
    {
      "cell_type": "markdown",
      "source": [
        "###Conclusions\n",
        "\n",
        "The best models I had were both my decisions trees, the rest of my models peereformed good, but not as good as both of the decisions trees. The regular decision trees accuracy was 92.2% which surprised me because I thought the models were not going to be that good, so the 92.2% was a pleasant surprise.  Both of the K nearest neighbors did not perform as well as the rest of the models. Weighting the values did not really change much in the models as the results were about the same. "
      ],
      "metadata": {
        "id": "t-iBEx8DJwFH"
      }
    }
  ]
}